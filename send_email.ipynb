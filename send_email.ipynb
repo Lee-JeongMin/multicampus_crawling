{
 "cells": [
  {
   "cell_type": "markdown",
   "metadata": {},
   "source": [
    "### https://yeolco.tistory.com/93"
   ]
  },
  {
   "cell_type": "code",
   "execution_count": 1,
   "metadata": {},
   "outputs": [],
   "source": [
    "# SMTP를 사용하기 위한 모듈\n",
    "import smtplib \n",
    "# 메일을 보낼 때 메세지의 제목과 본문을 설정하기위한 모듈\n",
    "from email.mime.text import MIMEText"
   ]
  },
  {
   "cell_type": "code",
   "execution_count": null,
   "metadata": {
    "scrolled": true
   },
   "outputs": [],
   "source": [
    "# https://myaccount.google.com/lesssecureapps?pli=1 (보안이 낮은 앱 활성화 엑세스함 끝나고 엑세스 취소하기)\n",
    "# 세션 생성\n",
    "# 첫번째 매개변수: 지메일을 사용하기 위한 SMTP 변수,\n",
    "# 두번째 매개변수: 포트번호(지메일은 587 사용)\n",
    "\n",
    "ctx = smtplib.ssl.create_default_context()\n",
    "s = smtplib.SMTP_SSL('smtp.gmail.com',465, ctx)"
   ]
  },
  {
   "cell_type": "code",
   "execution_count": null,
   "metadata": {},
   "outputs": [],
   "source": [
    "# https://myaccount.google.com/lesssecureapps?pli=1 (보안이 낮은 앱 활성화 엑세스함 끝나고 엑세스 취소하기)\n",
    "# 세션 생성\n",
    "# 첫번째 매개변수: 지메일을 사용하기 위한 SMTP 변수,\n",
    "# 두번째 매개변수: 포트번호(지메일은 587 사용)\n",
    "\n",
    "# ctx = smtplib.ssl.create_default_context()\n",
    "s = smtplib.SMTP('smtp.gmail.com',587)"
   ]
  },
  {
   "cell_type": "code",
   "execution_count": null,
   "metadata": {},
   "outputs": [],
   "source": [
    "# TLS 보안 시작\n",
    "s.starttls()"
   ]
  },
  {
   "cell_type": "code",
   "execution_count": null,
   "metadata": {},
   "outputs": [],
   "source": [
    "# 로그인 인증\n",
    "s.login('leejm456@gmail.com','mpzzchhaznjfwpuc')"
   ]
  },
  {
   "cell_type": "code",
   "execution_count": null,
   "metadata": {},
   "outputs": [],
   "source": [
    "# 보낼 메세지 설정\n",
    "msg = MIMEText('본문내용')\n",
    "msg['Subject']= '제목'"
   ]
  },
  {
   "cell_type": "code",
   "execution_count": null,
   "metadata": {},
   "outputs": [],
   "source": [
    "# 메일 보내기\n",
    "s.sendmail('leejm456@gmail.com','leejm456@gmail.com', msg.as_string())"
   ]
  },
  {
   "cell_type": "code",
   "execution_count": null,
   "metadata": {},
   "outputs": [],
   "source": [
    "# 세션 종료\n",
    "s.quit()"
   ]
  },
  {
   "cell_type": "markdown",
   "metadata": {},
   "source": [
    "# 환율정보 이메일자동화 \n",
    "<< 수정할 것 >>\n",
    "- dataframe의 앞의 인덱스는 출력하지 않도록 하기 (eg. 아래의 30)\n",
    "- 다른 코드에서 데이터를 csv로 저장할때 << encoding='cp949' >> 제외하기 ==> 자꾸 인코딩 에러 발생 \n",
    "  아마 encoding을 지정하고 싶으면 << encoding='utf-8' >> 로 지정하기 이거 smtp가 utf-8로 지원해주는 듯"
   ]
  },
  {
   "cell_type": "code",
   "execution_count": 2,
   "metadata": {},
   "outputs": [
    {
     "name": "stdout",
     "output_type": "stream",
     "text": [
      "정보를 받고 싶은 날짜를 입력하세요 eg) 2020-06-08  2020-06-01\n"
     ]
    }
   ],
   "source": [
    "input_date = input('정보를 받고 싶은 날짜를 입력하세요 eg) 2020-06-08  ')"
   ]
  },
  {
   "cell_type": "code",
   "execution_count": 35,
   "metadata": {
    "scrolled": true
   },
   "outputs": [
    {
     "data": {
      "text/html": [
       "<div>\n",
       "<style scoped>\n",
       "    .dataframe tbody tr th:only-of-type {\n",
       "        vertical-align: middle;\n",
       "    }\n",
       "\n",
       "    .dataframe tbody tr th {\n",
       "        vertical-align: top;\n",
       "    }\n",
       "\n",
       "    .dataframe thead th {\n",
       "        text-align: right;\n",
       "    }\n",
       "</style>\n",
       "<table border=\"1\" class=\"dataframe\">\n",
       "  <thead>\n",
       "    <tr style=\"text-align: right;\">\n",
       "      <th></th>\n",
       "      <th>날짜</th>\n",
       "      <th>USA</th>\n",
       "      <th>EUR</th>\n",
       "      <th>JPY</th>\n",
       "      <th>CNY</th>\n",
       "    </tr>\n",
       "  </thead>\n",
       "  <tbody>\n",
       "    <tr>\n",
       "      <td>30</td>\n",
       "      <td>2020-06-01</td>\n",
       "      <td>1,228.00</td>\n",
       "      <td>1,363.82</td>\n",
       "      <td>1,140.10</td>\n",
       "      <td>171.88</td>\n",
       "    </tr>\n",
       "  </tbody>\n",
       "</table>\n",
       "</div>"
      ],
      "text/plain": [
       "            날짜       USA       EUR       JPY     CNY\n",
       "30  2020-06-01  1,228.00  1,363.82  1,140.10  171.88"
      ]
     },
     "execution_count": 35,
     "metadata": {},
     "output_type": "execute_result"
    }
   ],
   "source": [
    "#-*- coding: utf-8 -*-\n",
    "import pandas as pd\n",
    "exchange = pd.read_csv('./naver_exchange_crawling.csv')\n",
    "\n",
    "msg = exchange[exchange['날짜']== input_date] \n",
    "msg\n",
    "# 컬럼 슬라이싱\n",
    "# msg.iloc[:, 1:]\n"
   ]
  },
  {
   "cell_type": "code",
   "execution_count": 36,
   "metadata": {},
   "outputs": [
    {
     "name": "stdout",
     "output_type": "stream",
     "text": [
      "<class 'str'>\n"
     ]
    }
   ],
   "source": [
    "aaa = '환율정보'\n",
    "print(type(aaa))"
   ]
  },
  {
   "cell_type": "code",
   "execution_count": 37,
   "metadata": {},
   "outputs": [
    {
     "name": "stdout",
     "output_type": "stream",
     "text": [
      "<class 'str'>\n"
     ]
    }
   ],
   "source": [
    "bbb = str(message)\n",
    "print(type(bbb))"
   ]
  },
  {
   "cell_type": "code",
   "execution_count": 26,
   "metadata": {},
   "outputs": [],
   "source": [
    "import smtplib, ssl\n",
    "\n",
    "port = 465  # For SSL\n",
    "smtp_server = \"smtp.gmail.com\"\n",
    "sender_email = \"leejm456@gmail.com\"  # Enter your address\n",
    "receiver_email = \"leejm456@gmail.com\"  # Enter receiver address\n",
    "password = 'mpzzchhaznjfwpuc' #input(\"Type your password and press enter: \")\n",
    "# message = \"\"\"\\\n",
    "# Subject: 재미있는 파이썬 업무자동화\n",
    "\n",
    "# 파이썬 업무자동화로 보내는 메일입니다.\n",
    "# 와우 신난다..\"\"\"\n",
    "message = aaa+'\\n'+str(msg)\n",
    "context = ssl.create_default_context()\n",
    "with smtplib.SMTP_SSL(smtp_server, port, context=context) as server:\n",
    "    server.login(sender_email, password)\n",
    "    server.sendmail(sender_email, receiver_email, message.encode('utf-8') )"
   ]
  },
  {
   "cell_type": "code",
   "execution_count": null,
   "metadata": {},
   "outputs": [],
   "source": []
  }
 ],
 "metadata": {
  "kernelspec": {
   "display_name": "Python 3",
   "language": "python",
   "name": "python3"
  },
  "language_info": {
   "codemirror_mode": {
    "name": "ipython",
    "version": 3
   },
   "file_extension": ".py",
   "mimetype": "text/x-python",
   "name": "python",
   "nbconvert_exporter": "python",
   "pygments_lexer": "ipython3",
   "version": "3.7.4"
  }
 },
 "nbformat": 4,
 "nbformat_minor": 4
}
