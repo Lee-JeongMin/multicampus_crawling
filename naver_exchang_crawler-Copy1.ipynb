{
 "cells": [
  {
   "cell_type": "code",
   "execution_count": 5,
   "metadata": {},
   "outputs": [],
   "source": [
    "import requests\n",
    "from bs4 import BeautifulSoup\n",
    "import pandas as pd\n",
    "from urllib.parse import urljoin\n",
    "import datetime\n",
    "import pymysql"
   ]
  },
  {
   "cell_type": "markdown",
   "metadata": {},
   "source": [
    "#### 네이버 환율 일별시세\n",
    "\n",
    "- 미국(USD), 유럽연합(EUR), 일본(JPY), 중국(CNY) 통화의 매매기준율 추출"
   ]
  },
  {
   "cell_type": "code",
   "execution_count": 6,
   "metadata": {
    "scrolled": true
   },
   "outputs": [],
   "source": [
    "def exchange_day_sise_crawler(country, base_url):\n",
    "\n",
    "    temp_dict = {}\n",
    "\n",
    "    usaList = []\n",
    "    eurList = []\n",
    "    jpyList = []\n",
    "    cnyList = []\n",
    "\n",
    "    for country_name, country_code in country.items():\n",
    "        dateList = []\n",
    "        for i in range(1,4):\n",
    "            params = {\n",
    "                'marketindexCd': country_code,\n",
    "            }\n",
    "\n",
    "            resp = requests.get(base_url, params=params)\n",
    "            soup = BeautifulSoup(resp.text,'lxml')\n",
    "\n",
    "            _iframe = soup.find_all('iframe')\n",
    "            day_sise = urljoin(base_url,_iframe[1].get('src'))\n",
    "            day_sise = day_sise+'&page='+str(i)\n",
    "#             print(day_sise)\n",
    "\n",
    "            resp2 = requests.get(day_sise)\n",
    "            soup2 = BeautifulSoup(resp2.text,'lxml')\n",
    "\n",
    "            day_body = soup2.select('tbody tr')\n",
    "            \n",
    "            # 각 나라별 환율정보 저장\n",
    "            for body in day_body:\n",
    "                dateList.append(body.find('td', class_='date').text.replace('.','-'))\n",
    "\n",
    "                if country_name == 'USA':\n",
    "                    usaList.append(body.find('td', class_='num').text)\n",
    "\n",
    "                elif country_name == 'EUR':\n",
    "                    eurList.append(body.find('td', class_='num').text)\n",
    "\n",
    "                elif country_name == 'JPY':\n",
    "                    jpyList.append(body.find('td', class_='num').text)\n",
    "\n",
    "                elif country_name == 'CNY':\n",
    "                    cnyList.append(body.find('td', class_='num').text)\n",
    "    \n",
    "    df1 = pd.DataFrame({'날짜' : dateList,\n",
    "                        'USA' : usaList,\n",
    "                        'EUR' : eurList,\n",
    "                        'JPY' : jpyList,\n",
    "                        'CNY' : cnyList})\n",
    "    \n",
    "    return df1"
   ]
  },
  {
   "cell_type": "markdown",
   "metadata": {},
   "source": [
    "#### 수집해야할 모든날짜 DataFrame 만들기 (공휴일 포함)"
   ]
  },
  {
   "cell_type": "code",
   "execution_count": 7,
   "metadata": {
    "scrolled": true
   },
   "outputs": [],
   "source": [
    "def all_date_range_df(date_range):\n",
    "    \n",
    "    df2 = pd.DataFrame({'날짜':date_range})\n",
    "    \n",
    "    return df2"
   ]
  },
  {
   "cell_type": "markdown",
   "metadata": {},
   "source": [
    "#### 두개의 DataFrame 병합"
   ]
  },
  {
   "cell_type": "code",
   "execution_count": 8,
   "metadata": {
    "scrolled": true
   },
   "outputs": [],
   "source": [
    "def df_outer_join_merge(df1, df2):\n",
    "    \n",
    "    # 두 df을 '날짜'키 값을 기준으로 outer_join 병합\n",
    "    df_OUTER_JOIN = pd.merge(df1, df2, left_on='날짜', right_on='날짜', how='outer', sort=True)\n",
    "    \n",
    "    # 두 값중 결측값을 앞 방향으로 채우기 (공휴일에 없는 환율정보는 전날을 기준으로 결측값 채우기)\n",
    "    # https://rfriend.tistory.com/262\n",
    "    df_finally = df_OUTER_JOIN.fillna(method='ffill')\n",
    "    \n",
    "    return df_finally"
   ]
  },
  {
   "cell_type": "code",
   "execution_count": 9,
   "metadata": {},
   "outputs": [],
   "source": [
    "def save_df_to_csv(df_finally):\n",
    "    # 위에 4월달꺼 제외 후 저장\n",
    "    \n",
    "    df_finally[4:].to_csv('naver_exchange_crawling.csv', index=False)"
   ]
  },
  {
   "cell_type": "code",
   "execution_count": 10,
   "metadata": {},
   "outputs": [],
   "source": [
    "country = {'USA':'FX_USDKRW', 'EUR':'FX_EURKRW', 'JPY':'FX_JPYKRW', 'CNY':'FX_CNYKRW'}\n",
    "base_url = 'https://finance.naver.com/marketindex/exchangeDetail.nhn'\n",
    "\n",
    "date_range = (pd.date_range(start='20200501', end=datetime.date.today())).strftime(\"%Y-%m-%d\").tolist()\n",
    "\n",
    "ExchangeDf = exchange_day_sise_crawler(country, base_url)\n",
    "DateDf = all_date_range_df(date_range)\n",
    "FinallyDf = df_outer_join_merge(ExchangeDf, DateDf)\n",
    "# save_df_to_csv(FinallyDf)"
   ]
  },
  {
   "cell_type": "markdown",
   "metadata": {},
   "source": [
    "###  https://godoftyping.wordpress.com/2017/05/27/python-mysql/ \n",
    "pymysql 참고할 블로그"
   ]
  },
  {
   "cell_type": "markdown",
   "metadata": {},
   "source": [
    "# 위에서 수집한 환율 데이터 mariaDB에 저장하기"
   ]
  },
  {
   "cell_type": "code",
   "execution_count": 104,
   "metadata": {},
   "outputs": [],
   "source": [
    "import pymysql"
   ]
  },
  {
   "cell_type": "markdown",
   "metadata": {},
   "source": [
    "#####  DB  생성 (CREATE 사용)"
   ]
  },
  {
   "cell_type": "code",
   "execution_count": 106,
   "metadata": {},
   "outputs": [],
   "source": [
    "def make_DB(password, DB_name):\n",
    "    conn = pymysql.connect(host='localhost', \n",
    "                           user = 'root', \n",
    "                           password=password, \n",
    "                           charset='utf8',\n",
    "                           cursorclass=pymysql.cursors.DictCursor)\n",
    "    try:\n",
    "        with conn.cursor() as cursor:\n",
    "            print('creating DataBase ...')\n",
    "            sql = 'CREATE DATABASE '+ DB_name\n",
    "            cursor.execute(sql)\n",
    "        conn.commit()\n",
    "    finally:\n",
    "        conn.close()"
   ]
  },
  {
   "cell_type": "markdown",
   "metadata": {},
   "source": [
    "#####  table  생성 (CREATE 사용)"
   ]
  },
  {
   "cell_type": "code",
   "execution_count": 103,
   "metadata": {},
   "outputs": [
    {
     "name": "stdout",
     "output_type": "stream",
     "text": [
      "creating table ...\n"
     ]
    }
   ],
   "source": [
    "# 'multi_crawler' DB에 'naver_exchange' 테이블 생성\n",
    "\n",
    "def make_table(password, DB_name, table_name):\n",
    "    conn = pymysql.connect(host='localhost', \n",
    "                           user = 'root', \n",
    "                           password=password, \n",
    "                           db=DB_name, \n",
    "                           charset='utf8',\n",
    "                           cursorclass=pymysql.cursors.DictCursor)\n",
    "    try:\n",
    "        with conn.cursor() as cursor:\n",
    "            print('creating table ...')\n",
    "            # 테이블이 생성되지 않은 경우만 테이블 생성\n",
    "            sql = 'CREATE TABLE IF NOT EXISTS '+table_name+'''(날짜 CHAR(10) PRIMARY KEY,\n",
    "                                            USA DECIMAL(10) NOT NULL, \n",
    "                                            EUR DECIMAL(10) NOT NULL,\n",
    "                                            JPY DECIMAL(10) NOT NULL,\n",
    "                                            CNY DECIMAL(10) NOT NULL)'''\n",
    "            cursor.execute(sql)\n",
    "        conn.commit()\n",
    "    finally:\n",
    "        conn.close()    "
   ]
  },
  {
   "cell_type": "markdown",
   "metadata": {},
   "source": [
    "#####  table  전체 삭제 (Drop 사용)"
   ]
  },
  {
   "cell_type": "code",
   "execution_count": null,
   "metadata": {},
   "outputs": [],
   "source": [
    "# 테이블 내용 전체 삭제 \n",
    "\n",
    "def drop_table(table_name):\n",
    "    print('delete table ...')\n",
    "    sql  = \"DROP TABLE IF EXISTS \"+ table_name\n",
    "    curs.execute(sql)"
   ]
  },
  {
   "cell_type": "code",
   "execution_count": null,
   "metadata": {},
   "outputs": [],
   "source": [
    "# insert문을 사용해서 데이터 입력\n",
    "def input_date():\n",
    "    print('inserting data ...')\n",
    "    \n",
    "    # FOR LOOP로 바꿔서 수집한 데이터 테이블에  INSERT하기\n",
    "    sql = \"INSERT INTO naver_exchange VALUES (%s, %s, %s, %s, %s)\"\n",
    "    for index, row in FinallyDf[4:].iterrows():\n",
    "#         print(row['날짜'], row['USA'].replace(',',''),row['EUR'].replace(',',''),row['JPY'].replace(',',''),row['CNY'].replace(',',''))\n",
    "        val = (row['날짜'], row['USA'].replace(',',''), row['EUR'].replace(',',''), row['JPY'].replace(',',''), row['CNY'].replace(',',''))\n",
    "\n",
    "        try:\n",
    "            curs.execute(sql, val)\n",
    "\n",
    "        except:\n",
    "            print(curs._last_executed)\n",
    "    \n",
    "    conn.commit()\n",
    "    print(curs.rowcount, \"record inserted.\")"
   ]
  },
  {
   "cell_type": "markdown",
   "metadata": {},
   "source": [
    "### main.py"
   ]
  },
  {
   "cell_type": "code",
   "execution_count": null,
   "metadata": {},
   "outputs": [],
   "source": [
    "password = '12345'\n",
    "DB_name = 'multi_crawler'\n",
    "table_name = 'naver'\n",
    "\n",
    "# DB 생성\n",
    "make_DB(password, DB_name)\n",
    "# table 생성\n",
    "make_table(password, DB_name, table_name)\n",
    "# table 삭제\n",
    "drop_table(table_name)"
   ]
  },
  {
   "cell_type": "code",
   "execution_count": null,
   "metadata": {},
   "outputs": [],
   "source": [
    "# 데이터 가져오기\n",
    "with conn.cursor() as cursor:\n",
    "    sql = \"SELECT * FROM table\"\n",
    "    cursor.execute(sql)\n",
    "    data = cursor.fetchall()\n",
    "    print(data)"
   ]
  },
  {
   "cell_type": "code",
   "execution_count": 100,
   "metadata": {
    "scrolled": true
   },
   "outputs": [
    {
     "name": "stdout",
     "output_type": "stream",
     "text": [
      "creating table ...\n",
      "inserting data ...\n",
      "2020-05-01 1219.00 1344.56 1144.55 172.06\n",
      "2020-05-02 1219.00 1344.56 1144.55 172.06\n",
      "['DataError', 'DatabaseError', 'Error', 'IntegrityError', 'InterfaceError', 'InternalError', 'NotSupportedError', 'OperationalError', 'ProgrammingError', 'Warning', '__class__', '__delattr__', '__dict__', '__dir__', '__doc__', '__enter__', '__eq__', '__exit__', '__format__', '__ge__', '__getattribute__', '__gt__', '__hash__', '__init__', '__init_subclass__', '__iter__', '__le__', '__lt__', '__module__', '__ne__', '__new__', '__reduce__', '__reduce_ex__', '__repr__', '__setattr__', '__sizeof__', '__str__', '__subclasshook__', '__weakref__', '_check_executed', '_clear_result', '_conv_row', '_defer_warnings', '_do_execute_many', '_do_get_result', '_ensure_bytes', '_escape_args', '_executed', '_get_db', '_last_executed', '_nextset', '_query', '_result', '_rows', '_show_warnings', '_warnings_handled', 'arraysize', 'callproc', 'close', 'connection', 'description', 'execute', 'executemany', 'fetchall', 'fetchmany', 'fetchone', 'lastrowid', 'max_stmt_length', 'mogrify', 'nextset', 'rowcount', 'rownumber', 'scroll', 'setinputsizes', 'setoutputsizes']\n",
      "INSERT INTO naver_exchange VALUES ('2020-05-02', '1219.00', '1344.56', '1144.55', '172.06')\n",
      "2020-05-03 1219.00 1344.56 1144.55 172.06\n",
      "['DataError', 'DatabaseError', 'Error', 'IntegrityError', 'InterfaceError', 'InternalError', 'NotSupportedError', 'OperationalError', 'ProgrammingError', 'Warning', '__class__', '__delattr__', '__dict__', '__dir__', '__doc__', '__enter__', '__eq__', '__exit__', '__format__', '__ge__', '__getattribute__', '__gt__', '__hash__', '__init__', '__init_subclass__', '__iter__', '__le__', '__lt__', '__module__', '__ne__', '__new__', '__reduce__', '__reduce_ex__', '__repr__', '__setattr__', '__sizeof__', '__str__', '__subclasshook__', '__weakref__', '_check_executed', '_clear_result', '_conv_row', '_defer_warnings', '_do_execute_many', '_do_get_result', '_ensure_bytes', '_escape_args', '_executed', '_get_db', '_last_executed', '_nextset', '_query', '_result', '_rows', '_show_warnings', '_warnings_handled', 'arraysize', 'callproc', 'close', 'connection', 'description', 'execute', 'executemany', 'fetchall', 'fetchmany', 'fetchone', 'lastrowid', 'max_stmt_length', 'mogrify', 'nextset', 'rowcount', 'rownumber', 'scroll', 'setinputsizes', 'setoutputsizes']\n",
      "INSERT INTO naver_exchange VALUES ('2020-05-03', '1219.00', '1344.56', '1144.55', '172.06')\n",
      "2020-05-04 1225.50 1339.84 1147.10 172.02\n",
      "2020-05-05 1225.50 1339.84 1147.10 172.02\n",
      "['DataError', 'DatabaseError', 'Error', 'IntegrityError', 'InterfaceError', 'InternalError', 'NotSupportedError', 'OperationalError', 'ProgrammingError', 'Warning', '__class__', '__delattr__', '__dict__', '__dir__', '__doc__', '__enter__', '__eq__', '__exit__', '__format__', '__ge__', '__getattribute__', '__gt__', '__hash__', '__init__', '__init_subclass__', '__iter__', '__le__', '__lt__', '__module__', '__ne__', '__new__', '__reduce__', '__reduce_ex__', '__repr__', '__setattr__', '__sizeof__', '__str__', '__subclasshook__', '__weakref__', '_check_executed', '_clear_result', '_conv_row', '_defer_warnings', '_do_execute_many', '_do_get_result', '_ensure_bytes', '_escape_args', '_executed', '_get_db', '_last_executed', '_nextset', '_query', '_result', '_rows', '_show_warnings', '_warnings_handled', 'arraysize', 'callproc', 'close', 'connection', 'description', 'execute', 'executemany', 'fetchall', 'fetchmany', 'fetchone', 'lastrowid', 'max_stmt_length', 'mogrify', 'nextset', 'rowcount', 'rownumber', 'scroll', 'setinputsizes', 'setoutputsizes']\n",
      "INSERT INTO naver_exchange VALUES ('2020-05-05', '1225.50', '1339.84', '1147.10', '172.02')\n",
      "2020-05-06 1225.50 1323.85 1153.30 172.13\n",
      "['DataError', 'DatabaseError', 'Error', 'IntegrityError', 'InterfaceError', 'InternalError', 'NotSupportedError', 'OperationalError', 'ProgrammingError', 'Warning', '__class__', '__delattr__', '__dict__', '__dir__', '__doc__', '__enter__', '__eq__', '__exit__', '__format__', '__ge__', '__getattribute__', '__gt__', '__hash__', '__init__', '__init_subclass__', '__iter__', '__le__', '__lt__', '__module__', '__ne__', '__new__', '__reduce__', '__reduce_ex__', '__repr__', '__setattr__', '__sizeof__', '__str__', '__subclasshook__', '__weakref__', '_check_executed', '_clear_result', '_conv_row', '_defer_warnings', '_do_execute_many', '_do_get_result', '_ensure_bytes', '_escape_args', '_executed', '_get_db', '_last_executed', '_nextset', '_query', '_result', '_rows', '_show_warnings', '_warnings_handled', 'arraysize', 'callproc', 'close', 'connection', 'description', 'execute', 'executemany', 'fetchall', 'fetchmany', 'fetchone', 'lastrowid', 'max_stmt_length', 'mogrify', 'nextset', 'rowcount', 'rownumber', 'scroll', 'setinputsizes', 'setoutputsizes']\n",
      "INSERT INTO naver_exchange VALUES ('2020-05-06', '1225.50', '1323.85', '1153.30', '172.13')\n",
      "2020-05-07 1224.00 1320.33 1148.54 172.19\n",
      "2020-05-08 1221.00 1323.99 1147.99 172.32\n",
      "2020-05-09 1221.00 1323.99 1147.99 172.32\n",
      "['DataError', 'DatabaseError', 'Error', 'IntegrityError', 'InterfaceError', 'InternalError', 'NotSupportedError', 'OperationalError', 'ProgrammingError', 'Warning', '__class__', '__delattr__', '__dict__', '__dir__', '__doc__', '__enter__', '__eq__', '__exit__', '__format__', '__ge__', '__getattribute__', '__gt__', '__hash__', '__init__', '__init_subclass__', '__iter__', '__le__', '__lt__', '__module__', '__ne__', '__new__', '__reduce__', '__reduce_ex__', '__repr__', '__setattr__', '__sizeof__', '__str__', '__subclasshook__', '__weakref__', '_check_executed', '_clear_result', '_conv_row', '_defer_warnings', '_do_execute_many', '_do_get_result', '_ensure_bytes', '_escape_args', '_executed', '_get_db', '_last_executed', '_nextset', '_query', '_result', '_rows', '_show_warnings', '_warnings_handled', 'arraysize', 'callproc', 'close', 'connection', 'description', 'execute', 'executemany', 'fetchall', 'fetchmany', 'fetchone', 'lastrowid', 'max_stmt_length', 'mogrify', 'nextset', 'rowcount', 'rownumber', 'scroll', 'setinputsizes', 'setoutputsizes']\n",
      "INSERT INTO naver_exchange VALUES ('2020-05-09', '1221.00', '1323.99', '1147.99', '172.32')\n",
      "2020-05-10 1221.00 1323.99 1147.99 172.32\n",
      "['DataError', 'DatabaseError', 'Error', 'IntegrityError', 'InterfaceError', 'InternalError', 'NotSupportedError', 'OperationalError', 'ProgrammingError', 'Warning', '__class__', '__delattr__', '__dict__', '__dir__', '__doc__', '__enter__', '__eq__', '__exit__', '__format__', '__ge__', '__getattribute__', '__gt__', '__hash__', '__init__', '__init_subclass__', '__iter__', '__le__', '__lt__', '__module__', '__ne__', '__new__', '__reduce__', '__reduce_ex__', '__repr__', '__setattr__', '__sizeof__', '__str__', '__subclasshook__', '__weakref__', '_check_executed', '_clear_result', '_conv_row', '_defer_warnings', '_do_execute_many', '_do_get_result', '_ensure_bytes', '_escape_args', '_executed', '_get_db', '_last_executed', '_nextset', '_query', '_result', '_rows', '_show_warnings', '_warnings_handled', 'arraysize', 'callproc', 'close', 'connection', 'description', 'execute', 'executemany', 'fetchall', 'fetchmany', 'fetchone', 'lastrowid', 'max_stmt_length', 'mogrify', 'nextset', 'rowcount', 'rownumber', 'scroll', 'setinputsizes', 'setoutputsizes']\n",
      "INSERT INTO naver_exchange VALUES ('2020-05-10', '1221.00', '1323.99', '1147.99', '172.32')\n",
      "2020-05-11 1224.00 1324.43 1140.99 172.32\n",
      "['DataError', 'DatabaseError', 'Error', 'IntegrityError', 'InterfaceError', 'InternalError', 'NotSupportedError', 'OperationalError', 'ProgrammingError', 'Warning', '__class__', '__delattr__', '__dict__', '__dir__', '__doc__', '__enter__', '__eq__', '__exit__', '__format__', '__ge__', '__getattribute__', '__gt__', '__hash__', '__init__', '__init_subclass__', '__iter__', '__le__', '__lt__', '__module__', '__ne__', '__new__', '__reduce__', '__reduce_ex__', '__repr__', '__setattr__', '__sizeof__', '__str__', '__subclasshook__', '__weakref__', '_check_executed', '_clear_result', '_conv_row', '_defer_warnings', '_do_execute_many', '_do_get_result', '_ensure_bytes', '_escape_args', '_executed', '_get_db', '_last_executed', '_nextset', '_query', '_result', '_rows', '_show_warnings', '_warnings_handled', 'arraysize', 'callproc', 'close', 'connection', 'description', 'execute', 'executemany', 'fetchall', 'fetchmany', 'fetchone', 'lastrowid', 'max_stmt_length', 'mogrify', 'nextset', 'rowcount', 'rownumber', 'scroll', 'setinputsizes', 'setoutputsizes']\n",
      "INSERT INTO naver_exchange VALUES ('2020-05-11', '1224.00', '1324.43', '1140.99', '172.32')\n",
      "2020-05-12 1224.00 1326.33 1139.40 172.49\n",
      "['DataError', 'DatabaseError', 'Error', 'IntegrityError', 'InterfaceError', 'InternalError', 'NotSupportedError', 'OperationalError', 'ProgrammingError', 'Warning', '__class__', '__delattr__', '__dict__', '__dir__', '__doc__', '__enter__', '__eq__', '__exit__', '__format__', '__ge__', '__getattribute__', '__gt__', '__hash__', '__init__', '__init_subclass__', '__iter__', '__le__', '__lt__', '__module__', '__ne__', '__new__', '__reduce__', '__reduce_ex__', '__repr__', '__setattr__', '__sizeof__', '__str__', '__subclasshook__', '__weakref__', '_check_executed', '_clear_result', '_conv_row', '_defer_warnings', '_do_execute_many', '_do_get_result', '_ensure_bytes', '_escape_args', '_executed', '_get_db', '_last_executed', '_nextset', '_query', '_result', '_rows', '_show_warnings', '_warnings_handled', 'arraysize', 'callproc', 'close', 'connection', 'description', 'execute', 'executemany', 'fetchall', 'fetchmany', 'fetchone', 'lastrowid', 'max_stmt_length', 'mogrify', 'nextset', 'rowcount', 'rownumber', 'scroll', 'setinputsizes', 'setoutputsizes']\n",
      "INSERT INTO naver_exchange VALUES ('2020-05-12', '1224.00', '1326.33', '1139.40', '172.49')\n",
      "2020-05-13 1224.50 1329.38 1144.13 172.28\n",
      "2020-05-14 1228.50 1325.80 1147.97 172.58\n",
      "2020-05-15 1230.50 1329.86 1150.00 172.69\n",
      "2020-05-16 1230.50 1329.86 1150.00 172.69\n",
      "['DataError', 'DatabaseError', 'Error', 'IntegrityError', 'InterfaceError', 'InternalError', 'NotSupportedError', 'OperationalError', 'ProgrammingError', 'Warning', '__class__', '__delattr__', '__dict__', '__dir__', '__doc__', '__enter__', '__eq__', '__exit__', '__format__', '__ge__', '__getattribute__', '__gt__', '__hash__', '__init__', '__init_subclass__', '__iter__', '__le__', '__lt__', '__module__', '__ne__', '__new__', '__reduce__', '__reduce_ex__', '__repr__', '__setattr__', '__sizeof__', '__str__', '__subclasshook__', '__weakref__', '_check_executed', '_clear_result', '_conv_row', '_defer_warnings', '_do_execute_many', '_do_get_result', '_ensure_bytes', '_escape_args', '_executed', '_get_db', '_last_executed', '_nextset', '_query', '_result', '_rows', '_show_warnings', '_warnings_handled', 'arraysize', 'callproc', 'close', 'connection', 'description', 'execute', 'executemany', 'fetchall', 'fetchmany', 'fetchone', 'lastrowid', 'max_stmt_length', 'mogrify', 'nextset', 'rowcount', 'rownumber', 'scroll', 'setinputsizes', 'setoutputsizes']\n",
      "INSERT INTO naver_exchange VALUES ('2020-05-16', '1230.50', '1329.86', '1150.00', '172.69')\n",
      "2020-05-17 1230.50 1329.86 1150.00 172.69\n",
      "['DataError', 'DatabaseError', 'Error', 'IntegrityError', 'InterfaceError', 'InternalError', 'NotSupportedError', 'OperationalError', 'ProgrammingError', 'Warning', '__class__', '__delattr__', '__dict__', '__dir__', '__doc__', '__enter__', '__eq__', '__exit__', '__format__', '__ge__', '__getattribute__', '__gt__', '__hash__', '__init__', '__init_subclass__', '__iter__', '__le__', '__lt__', '__module__', '__ne__', '__new__', '__reduce__', '__reduce_ex__', '__repr__', '__setattr__', '__sizeof__', '__str__', '__subclasshook__', '__weakref__', '_check_executed', '_clear_result', '_conv_row', '_defer_warnings', '_do_execute_many', '_do_get_result', '_ensure_bytes', '_escape_args', '_executed', '_get_db', '_last_executed', '_nextset', '_query', '_result', '_rows', '_show_warnings', '_warnings_handled', 'arraysize', 'callproc', 'close', 'connection', 'description', 'execute', 'executemany', 'fetchall', 'fetchmany', 'fetchone', 'lastrowid', 'max_stmt_length', 'mogrify', 'nextset', 'rowcount', 'rownumber', 'scroll', 'setinputsizes', 'setoutputsizes']\n",
      "INSERT INTO naver_exchange VALUES ('2020-05-17', '1230.50', '1329.86', '1150.00', '172.69')\n",
      "2020-05-18 1234.50 1334.93 1151.00 172.94\n",
      "2020-05-19 1226.00 1343.02 1139.56 172.16\n",
      "['DataError', 'DatabaseError', 'Error', 'IntegrityError', 'InterfaceError', 'InternalError', 'NotSupportedError', 'OperationalError', 'ProgrammingError', 'Warning', '__class__', '__delattr__', '__dict__', '__dir__', '__doc__', '__enter__', '__eq__', '__exit__', '__format__', '__ge__', '__getattribute__', '__gt__', '__hash__', '__init__', '__init_subclass__', '__iter__', '__le__', '__lt__', '__module__', '__ne__', '__new__', '__reduce__', '__reduce_ex__', '__repr__', '__setattr__', '__sizeof__', '__str__', '__subclasshook__', '__weakref__', '_check_executed', '_clear_result', '_conv_row', '_defer_warnings', '_do_execute_many', '_do_get_result', '_ensure_bytes', '_escape_args', '_executed', '_get_db', '_last_executed', '_nextset', '_query', '_result', '_rows', '_show_warnings', '_warnings_handled', 'arraysize', 'callproc', 'close', 'connection', 'description', 'execute', 'executemany', 'fetchall', 'fetchmany', 'fetchone', 'lastrowid', 'max_stmt_length', 'mogrify', 'nextset', 'rowcount', 'rownumber', 'scroll', 'setinputsizes', 'setoutputsizes']\n",
      "INSERT INTO naver_exchange VALUES ('2020-05-19', '1226.00', '1343.02', '1139.56', '172.16')\n",
      "2020-05-20 1229.00 1345.20 1141.98 172.82\n",
      "['DataError', 'DatabaseError', 'Error', 'IntegrityError', 'InterfaceError', 'InternalError', 'NotSupportedError', 'OperationalError', 'ProgrammingError', 'Warning', '__class__', '__delattr__', '__dict__', '__dir__', '__doc__', '__enter__', '__eq__', '__exit__', '__format__', '__ge__', '__getattribute__', '__gt__', '__hash__', '__init__', '__init_subclass__', '__iter__', '__le__', '__lt__', '__module__', '__ne__', '__new__', '__reduce__', '__reduce_ex__', '__repr__', '__setattr__', '__sizeof__', '__str__', '__subclasshook__', '__weakref__', '_check_executed', '_clear_result', '_conv_row', '_defer_warnings', '_do_execute_many', '_do_get_result', '_ensure_bytes', '_escape_args', '_executed', '_get_db', '_last_executed', '_nextset', '_query', '_result', '_rows', '_show_warnings', '_warnings_handled', 'arraysize', 'callproc', 'close', 'connection', 'description', 'execute', 'executemany', 'fetchall', 'fetchmany', 'fetchone', 'lastrowid', 'max_stmt_length', 'mogrify', 'nextset', 'rowcount', 'rownumber', 'scroll', 'setinputsizes', 'setoutputsizes']\n",
      "INSERT INTO naver_exchange VALUES ('2020-05-20', '1229.00', '1345.20', '1141.98', '172.82')\n",
      "2020-05-21 1230.50 1352.50 1142.26 172.94\n",
      "['DataError', 'DatabaseError', 'Error', 'IntegrityError', 'InterfaceError', 'InternalError', 'NotSupportedError', 'OperationalError', 'ProgrammingError', 'Warning', '__class__', '__delattr__', '__dict__', '__dir__', '__doc__', '__enter__', '__eq__', '__exit__', '__format__', '__ge__', '__getattribute__', '__gt__', '__hash__', '__init__', '__init_subclass__', '__iter__', '__le__', '__lt__', '__module__', '__ne__', '__new__', '__reduce__', '__reduce_ex__', '__repr__', '__setattr__', '__sizeof__', '__str__', '__subclasshook__', '__weakref__', '_check_executed', '_clear_result', '_conv_row', '_defer_warnings', '_do_execute_many', '_do_get_result', '_ensure_bytes', '_escape_args', '_executed', '_get_db', '_last_executed', '_nextset', '_query', '_result', '_rows', '_show_warnings', '_warnings_handled', 'arraysize', 'callproc', 'close', 'connection', 'description', 'execute', 'executemany', 'fetchall', 'fetchmany', 'fetchone', 'lastrowid', 'max_stmt_length', 'mogrify', 'nextset', 'rowcount', 'rownumber', 'scroll', 'setinputsizes', 'setoutputsizes']\n",
      "INSERT INTO naver_exchange VALUES ('2020-05-21', '1230.50', '1352.50', '1142.26', '172.94')\n",
      "2020-05-22 1240.50 1352.83 1154.65 173.46\n",
      "2020-05-23 1240.50 1352.83 1154.65 173.46\n",
      "['DataError', 'DatabaseError', 'Error', 'IntegrityError', 'InterfaceError', 'InternalError', 'NotSupportedError', 'OperationalError', 'ProgrammingError', 'Warning', '__class__', '__delattr__', '__dict__', '__dir__', '__doc__', '__enter__', '__eq__', '__exit__', '__format__', '__ge__', '__getattribute__', '__gt__', '__hash__', '__init__', '__init_subclass__', '__iter__', '__le__', '__lt__', '__module__', '__ne__', '__new__', '__reduce__', '__reduce_ex__', '__repr__', '__setattr__', '__sizeof__', '__str__', '__subclasshook__', '__weakref__', '_check_executed', '_clear_result', '_conv_row', '_defer_warnings', '_do_execute_many', '_do_get_result', '_ensure_bytes', '_escape_args', '_executed', '_get_db', '_last_executed', '_nextset', '_query', '_result', '_rows', '_show_warnings', '_warnings_handled', 'arraysize', 'callproc', 'close', 'connection', 'description', 'execute', 'executemany', 'fetchall', 'fetchmany', 'fetchone', 'lastrowid', 'max_stmt_length', 'mogrify', 'nextset', 'rowcount', 'rownumber', 'scroll', 'setinputsizes', 'setoutputsizes']\n",
      "INSERT INTO naver_exchange VALUES ('2020-05-23', '1240.50', '1352.83', '1154.65', '173.46')\n",
      "2020-05-24 1240.50 1352.83 1154.65 173.46\n",
      "['DataError', 'DatabaseError', 'Error', 'IntegrityError', 'InterfaceError', 'InternalError', 'NotSupportedError', 'OperationalError', 'ProgrammingError', 'Warning', '__class__', '__delattr__', '__dict__', '__dir__', '__doc__', '__enter__', '__eq__', '__exit__', '__format__', '__ge__', '__getattribute__', '__gt__', '__hash__', '__init__', '__init_subclass__', '__iter__', '__le__', '__lt__', '__module__', '__ne__', '__new__', '__reduce__', '__reduce_ex__', '__repr__', '__setattr__', '__sizeof__', '__str__', '__subclasshook__', '__weakref__', '_check_executed', '_clear_result', '_conv_row', '_defer_warnings', '_do_execute_many', '_do_get_result', '_ensure_bytes', '_escape_args', '_executed', '_get_db', '_last_executed', '_nextset', '_query', '_result', '_rows', '_show_warnings', '_warnings_handled', 'arraysize', 'callproc', 'close', 'connection', 'description', 'execute', 'executemany', 'fetchall', 'fetchmany', 'fetchone', 'lastrowid', 'max_stmt_length', 'mogrify', 'nextset', 'rowcount', 'rownumber', 'scroll', 'setinputsizes', 'setoutputsizes']\n",
      "INSERT INTO naver_exchange VALUES ('2020-05-24', '1240.50', '1352.83', '1154.65', '173.46')\n",
      "2020-05-25 1242.00 1353.22 1153.15 173.61\n",
      "2020-05-26 1234.00 1351.85 1146.36 172.73\n",
      "2020-05-27 1234.50 1360.11 1145.97 172.13\n",
      "['DataError', 'DatabaseError', 'Error', 'IntegrityError', 'InterfaceError', 'InternalError', 'NotSupportedError', 'OperationalError', 'ProgrammingError', 'Warning', '__class__', '__delattr__', '__dict__', '__dir__', '__doc__', '__enter__', '__eq__', '__exit__', '__format__', '__ge__', '__getattribute__', '__gt__', '__hash__', '__init__', '__init_subclass__', '__iter__', '__le__', '__lt__', '__module__', '__ne__', '__new__', '__reduce__', '__reduce_ex__', '__repr__', '__setattr__', '__sizeof__', '__str__', '__subclasshook__', '__weakref__', '_check_executed', '_clear_result', '_conv_row', '_defer_warnings', '_do_execute_many', '_do_get_result', '_ensure_bytes', '_escape_args', '_executed', '_get_db', '_last_executed', '_nextset', '_query', '_result', '_rows', '_show_warnings', '_warnings_handled', 'arraysize', 'callproc', 'close', 'connection', 'description', 'execute', 'executemany', 'fetchall', 'fetchmany', 'fetchone', 'lastrowid', 'max_stmt_length', 'mogrify', 'nextset', 'rowcount', 'rownumber', 'scroll', 'setinputsizes', 'setoutputsizes']\n",
      "INSERT INTO naver_exchange VALUES ('2020-05-27', '1234.50', '1360.11', '1145.97', '172.13')\n",
      "2020-05-28 1240.00 1364.56 1150.65 172.83\n",
      "2020-05-29 1238.00 1377.89 1154.47 172.88\n",
      "2020-05-30 1238.00 1377.89 1154.47 172.88\n",
      "['DataError', 'DatabaseError', 'Error', 'IntegrityError', 'InterfaceError', 'InternalError', 'NotSupportedError', 'OperationalError', 'ProgrammingError', 'Warning', '__class__', '__delattr__', '__dict__', '__dir__', '__doc__', '__enter__', '__eq__', '__exit__', '__format__', '__ge__', '__getattribute__', '__gt__', '__hash__', '__init__', '__init_subclass__', '__iter__', '__le__', '__lt__', '__module__', '__ne__', '__new__', '__reduce__', '__reduce_ex__', '__repr__', '__setattr__', '__sizeof__', '__str__', '__subclasshook__', '__weakref__', '_check_executed', '_clear_result', '_conv_row', '_defer_warnings', '_do_execute_many', '_do_get_result', '_ensure_bytes', '_escape_args', '_executed', '_get_db', '_last_executed', '_nextset', '_query', '_result', '_rows', '_show_warnings', '_warnings_handled', 'arraysize', 'callproc', 'close', 'connection', 'description', 'execute', 'executemany', 'fetchall', 'fetchmany', 'fetchone', 'lastrowid', 'max_stmt_length', 'mogrify', 'nextset', 'rowcount', 'rownumber', 'scroll', 'setinputsizes', 'setoutputsizes']\n",
      "INSERT INTO naver_exchange VALUES ('2020-05-30', '1238.00', '1377.89', '1154.47', '172.88')\n",
      "2020-05-31 1238.00 1377.89 1154.47 172.88\n",
      "['DataError', 'DatabaseError', 'Error', 'IntegrityError', 'InterfaceError', 'InternalError', 'NotSupportedError', 'OperationalError', 'ProgrammingError', 'Warning', '__class__', '__delattr__', '__dict__', '__dir__', '__doc__', '__enter__', '__eq__', '__exit__', '__format__', '__ge__', '__getattribute__', '__gt__', '__hash__', '__init__', '__init_subclass__', '__iter__', '__le__', '__lt__', '__module__', '__ne__', '__new__', '__reduce__', '__reduce_ex__', '__repr__', '__setattr__', '__sizeof__', '__str__', '__subclasshook__', '__weakref__', '_check_executed', '_clear_result', '_conv_row', '_defer_warnings', '_do_execute_many', '_do_get_result', '_ensure_bytes', '_escape_args', '_executed', '_get_db', '_last_executed', '_nextset', '_query', '_result', '_rows', '_show_warnings', '_warnings_handled', 'arraysize', 'callproc', 'close', 'connection', 'description', 'execute', 'executemany', 'fetchall', 'fetchmany', 'fetchone', 'lastrowid', 'max_stmt_length', 'mogrify', 'nextset', 'rowcount', 'rownumber', 'scroll', 'setinputsizes', 'setoutputsizes']\n",
      "INSERT INTO naver_exchange VALUES ('2020-05-31', '1238.00', '1377.89', '1154.47', '172.88')\n",
      "2020-06-01 1228.00 1363.82 1140.10 171.88\n",
      "2020-06-02 1222.50 1365.23 1134.31 171.87\n",
      "2020-06-03 1217.00 1363.83 1119.13 171.06\n",
      "2020-06-04 1219.50 1366.51 1119.94 171.16\n",
      "2020-06-05 1209.00 1370.04 1106.48 170.46\n",
      "2020-06-06 1209.00 1370.04 1106.48 170.46\n",
      "['DataError', 'DatabaseError', 'Error', 'IntegrityError', 'InterfaceError', 'InternalError', 'NotSupportedError', 'OperationalError', 'ProgrammingError', 'Warning', '__class__', '__delattr__', '__dict__', '__dir__', '__doc__', '__enter__', '__eq__', '__exit__', '__format__', '__ge__', '__getattribute__', '__gt__', '__hash__', '__init__', '__init_subclass__', '__iter__', '__le__', '__lt__', '__module__', '__ne__', '__new__', '__reduce__', '__reduce_ex__', '__repr__', '__setattr__', '__sizeof__', '__str__', '__subclasshook__', '__weakref__', '_check_executed', '_clear_result', '_conv_row', '_defer_warnings', '_do_execute_many', '_do_get_result', '_ensure_bytes', '_escape_args', '_executed', '_get_db', '_last_executed', '_nextset', '_query', '_result', '_rows', '_show_warnings', '_warnings_handled', 'arraysize', 'callproc', 'close', 'connection', 'description', 'execute', 'executemany', 'fetchall', 'fetchmany', 'fetchone', 'lastrowid', 'max_stmt_length', 'mogrify', 'nextset', 'rowcount', 'rownumber', 'scroll', 'setinputsizes', 'setoutputsizes']\n",
      "INSERT INTO naver_exchange VALUES ('2020-06-06', '1209.00', '1370.04', '1106.48', '170.46')\n",
      "2020-06-07 1209.00 1370.04 1106.48 170.46\n",
      "['DataError', 'DatabaseError', 'Error', 'IntegrityError', 'InterfaceError', 'InternalError', 'NotSupportedError', 'OperationalError', 'ProgrammingError', 'Warning', '__class__', '__delattr__', '__dict__', '__dir__', '__doc__', '__enter__', '__eq__', '__exit__', '__format__', '__ge__', '__getattribute__', '__gt__', '__hash__', '__init__', '__init_subclass__', '__iter__', '__le__', '__lt__', '__module__', '__ne__', '__new__', '__reduce__', '__reduce_ex__', '__repr__', '__setattr__', '__sizeof__', '__str__', '__subclasshook__', '__weakref__', '_check_executed', '_clear_result', '_conv_row', '_defer_warnings', '_do_execute_many', '_do_get_result', '_ensure_bytes', '_escape_args', '_executed', '_get_db', '_last_executed', '_nextset', '_query', '_result', '_rows', '_show_warnings', '_warnings_handled', 'arraysize', 'callproc', 'close', 'connection', 'description', 'execute', 'executemany', 'fetchall', 'fetchmany', 'fetchone', 'lastrowid', 'max_stmt_length', 'mogrify', 'nextset', 'rowcount', 'rownumber', 'scroll', 'setinputsizes', 'setoutputsizes']\n",
      "INSERT INTO naver_exchange VALUES ('2020-06-07', '1209.00', '1370.04', '1106.48', '170.46')\n",
      "2020-06-08 1201.00 1354.07 1098.06 169.86\n",
      "2020-06-09 1197.60 1351.67 1109.25 169.26\n",
      "1 record inserted.\n"
     ]
    },
    {
     "name": "stderr",
     "output_type": "stream",
     "text": [
      "C:\\Users\\student\\.conda\\envs\\multi_python\\lib\\site-packages\\pymysql\\cursors.py:170: Warning: (1265, \"Data truncated for column 'USA' at row 1\")\n",
      "  result = self._query(query)\n"
     ]
    }
   ],
   "source": [
    "# MairaDB  connection 연결\n",
    "conn = pymysql.connect(host='localhost', \n",
    "                       user = 'root', \n",
    "                       password='12345', \n",
    "                       db='multi_crawler2', \n",
    "                       charset='utf8',\n",
    "                       cursorclass=pymysql.cursors.DictCursor)\n",
    "\n",
    "# connection 으로부터 Dictionary Cursor 생성\n",
    "# curs = conn.cursor(pymysql.cursors.DictCursor)\n",
    "curs = conn.cursor()\n",
    "\n",
    "# 'multi_crawler' DB에 'naver_exchange' 테이블 생성\n",
    "try:\n",
    "    print('creating table ...')\n",
    "    # 테이블이 생성되지 않은 경우만 테이블 생성\n",
    "    sql = '''CREATE TABLE IF NOT EXISTS naver_exchange(날짜 CHAR(10), \n",
    "                                        USA DECIMAL(10) AUTO_INCREMENT PRIMARY KEY, \n",
    "                                        EUR DECIMAL(10) NOT NULL, \n",
    "                                        JPY DECIMAL(10) NOT NULL, \n",
    "                                        CNY DECIMAL(10) NOT NULL)'''\n",
    "    curs.execute(sql)\n",
    "\n",
    "    # 테이블 생성 확인\n",
    "    curs.execute(\"SHOW TABLES\")\n",
    "\n",
    "    # insert문을 사용해서 데이터 입력\n",
    "    print('inserting data ...')\n",
    "    \n",
    "    # FOR LOOP로 바꿔서 수집한 데이터 테이블에  INSERT하기\n",
    "    sql = \"INSERT INTO naver_exchange VALUES (%s, %s, %s, %s, %s)\"\n",
    "    for index, row in FinallyDf[4:].iterrows():\n",
    "        print(row['날짜'], row['USA'].replace(',',''),row['EUR'].replace(',',''),row['JPY'].replace(',',''),row['CNY'].replace(',',''))\n",
    "        val = (row['날짜'], row['USA'].replace(',',''), row['EUR'].replace(',',''), row['JPY'].replace(',',''), row['CNY'].replace(',',''))\n",
    "\n",
    "        try:\n",
    "            curs.execute(sql, val)\n",
    "\n",
    "        except:\n",
    "            print(curs._last_executed)\n",
    "    \n",
    "    conn.commit()\n",
    "    print(curs.rowcount, \"record inserted.\")\n",
    "    \n",
    "except:\n",
    "    print('error.....')\n",
    "\n",
    "\n",
    "# 테이블 내용 전체 삭제 \n",
    "# print('delete table ...')\n",
    "# sql  = (\"DROP TABLE IF EXISTS naver_exchange\")\n",
    "# curs.execute(sql)\n",
    "# # 테이블 생성 확인\n",
    "# curs.execute(\"SHOW TABLES\")"
   ]
  },
  {
   "cell_type": "code",
   "execution_count": null,
   "metadata": {},
   "outputs": [],
   "source": [
    "# ORM ->  추가적인 공부가 필요(sql rpa)\n",
    "\n",
    "class table_name(sa.Model):\n",
    "    data_id = sa.Integer(primary = True, auto_increment= True)\n",
    "    content = sa.Text()\n",
    "    source_id = sa.ForeignKey()"
   ]
  },
  {
   "cell_type": "code",
   "execution_count": null,
   "metadata": {},
   "outputs": [],
   "source": [
    "# 명령어 작성 :  python  sa migrate  ()"
   ]
  }
 ],
 "metadata": {
  "kernelspec": {
   "display_name": "Python 3",
   "language": "python",
   "name": "python3"
  },
  "language_info": {
   "codemirror_mode": {
    "name": "ipython",
    "version": 3
   },
   "file_extension": ".py",
   "mimetype": "text/x-python",
   "name": "python",
   "nbconvert_exporter": "python",
   "pygments_lexer": "ipython3",
   "version": "3.7.7"
  }
 },
 "nbformat": 4,
 "nbformat_minor": 2
}
