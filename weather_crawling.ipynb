{
 "cells": [
  {
   "cell_type": "markdown",
   "metadata": {},
   "source": [
    "# 날씨 데이터 크롤링\n",
    "\n",
    "출처: https://www.data.go.kr/  \n",
    "ASOS 종관기상관측 데이터 활용"
   ]
  },
  {
   "cell_type": "markdown",
   "metadata": {},
   "source": [
    "# URL 설정"
   ]
  },
  {
   "cell_type": "markdown",
   "metadata": {},
   "source": [
    "# 시간별자료"
   ]
  },
  {
   "cell_type": "code",
   "execution_count": 66,
   "metadata": {},
   "outputs": [],
   "source": [
    "from urllib.request import urlopen\n",
    "from urllib.parse import urlencode, unquote, quote_plus\n",
    "import urllib\n",
    "import requests\n",
    "import json\n",
    "import pandas as pd\n",
    "from bs4 import BeautifulSoup\n",
    "import datetime"
   ]
  },
  {
   "cell_type": "code",
   "execution_count": 2,
   "metadata": {},
   "outputs": [],
   "source": [
    "key='13nWfyvckU06jS8j02cgKEde9gF7%2B9BZ%2BOFcpgpuu%2FnNRbR64QYGlNEzN7b%2F9D4RI3uFKkJ97YT9mf5X3FMIUA%3D%3D'\n",
    "url=\"http://data.kma.go.kr/apiData/getData\"\n"
   ]
  },
  {
   "cell_type": "markdown",
   "metadata": {},
   "source": [
    "### api 설명서에 있는 활용가이드에서 요청/응답 메세지 예제를 확인한다\n",
    "\n",
    "### urlparse, parse_qs를 통해 파라미터로 나눠준다"
   ]
  },
  {
   "cell_type": "code",
   "execution_count": 12,
   "metadata": {},
   "outputs": [
    {
     "data": {
      "text/plain": [
       "{'serviceKey': '13nWfyvckU06jS8j02cgKEde9gF7+9BZ+OFcpgpuu/nNRbR64QYGlNEzN7b/9D4RI3uFKkJ97YT9mf5X3FMIUA==',\n",
       " 'numOfRows': '10',\n",
       " 'pageNo': '1',\n",
       " 'dataCd': 'ASOS',\n",
       " 'dateCd': 'HR',\n",
       " 'stnIds': '108',\n",
       " 'schListCnt': '10',\n",
       " 'endDt': '20200101',\n",
       " 'endHh': '01',\n",
       " 'startHh': '01',\n",
       " 'startDt': '20100101',\n",
       " 'dataType': 'JSON'}"
      ]
     },
     "execution_count": 12,
     "metadata": {},
     "output_type": "execute_result"
    }
   ],
   "source": [
    "from urllib.parse import urlparse, parse_qs\n",
    "url = urlparse(\"http://apis.data.go.kr/1360000/AsosHourlyInfoService/getWthrDataList?serviceKey=13nWfyvckU06jS8j02cgKEde9gF7%2B9BZ%2BOFcpgpuu%2FnNRbR64QYGlNEzN7b%2F9D4RI3uFKkJ97YT9mf5X3FMIUA%3D%3D&numOfRows=10&pageNo=1&dataCd=ASOS&dateCd=HR&stnIds=108&schListCnt=10&endDt=20200101&endHh=01&startHh=01&startDt=20100101&dataType=JSON\")\n",
    "par_dic = parse_qs(a.query)\n",
    "for key in par_dic:\n",
    "    par_dic[key] = par_dic[key][0]\n",
    "par_dic"
   ]
  },
  {
   "cell_type": "code",
   "execution_count": 135,
   "metadata": {
    "scrolled": true
   },
   "outputs": [],
   "source": [
    "def get_hourly_data(start_date, start_hour,end_date,end_hour):\n",
    "    start_date=start_date\n",
    "    start_hour=start_hour\n",
    "    end_date=end_date\n",
    "    end_hour=end_hour\n",
    "    url='http://apis.data.go.kr/1360000/AsosHourlyInfoService/getWthrDataList'\n",
    "\n",
    "    \n",
    "    params={'serviceKey': '13nWfyvckU06jS8j02cgKEde9gF7+9BZ+OFcpgpuu/nNRbR64QYGlNEzN7b/9D4RI3uFKkJ97YT9mf5X3FMIUA==',\n",
    "     'numOfRows': '10',\n",
    "     'pageNo': '1',\n",
    "     'dataCd': 'ASOS',\n",
    "     'dateCd': 'HR',\n",
    "     'stnIds': '108',\n",
    "     'schListCnt': '10',\n",
    "     'endDt': end_date,\n",
    "     'endHh': end_hour,\n",
    "     'startHh': start_hour,\n",
    "     'startDt': start_date,\n",
    "     'dataType': 'JSON'\n",
    "           }\n",
    "\n",
    "    resp = requests.get(url, params=params)\n",
    "    #result= json.loads(resp.text)\n",
    "\n",
    "    return resp.text"
   ]
  },
  {
   "cell_type": "code",
   "execution_count": 136,
   "metadata": {},
   "outputs": [
    {
     "data": {
      "text/plain": [
       "{'response': {'header': {'resultCode': '99',\n",
       "   'resultMsg': '전날 자료까지 제공됩니다. 날짜 범위를 확인해주세요.'}}}"
      ]
     },
     "execution_count": 136,
     "metadata": {},
     "output_type": "execute_result"
    }
   ],
   "source": [
    "data=get_hourly_data('20200605','08','20200605','09')\n",
    "json.loads(data)"
   ]
  },
  {
   "cell_type": "markdown",
   "metadata": {},
   "source": [
    "# 일별데이터 출력"
   ]
  },
  {
   "cell_type": "code",
   "execution_count": 56,
   "metadata": {},
   "outputs": [
    {
     "data": {
      "text/plain": [
       "{'serviceKey': '13nWfyvckU06jS8j02cgKEde9gF7+9BZ+OFcpgpuu/nNRbR64QYGlNEzN7b/9D4RI3uFKkJ97YT9mf5X3FMIUA==',\n",
       " 'numOfRows': '10',\n",
       " 'pageNo': '1',\n",
       " 'dataCd': 'ASOS',\n",
       " 'dateCd': 'DAY',\n",
       " 'startDt': '20100101',\n",
       " 'endDt': '20100102',\n",
       " 'stnIds': '108'}"
      ]
     },
     "execution_count": 56,
     "metadata": {},
     "output_type": "execute_result"
    }
   ],
   "source": [
    "from urllib.parse import urlparse, parse_qs\n",
    "url = urlparse(\"http://apis.data.go.kr/1360000/AsosDalyInfoService/getWthrDataList?serviceKey=13nWfyvckU06jS8j02cgKEde9gF7%2B9BZ%2BOFcpgpuu%2FnNRbR64QYGlNEzN7b%2F9D4RI3uFKkJ97YT9mf5X3FMIUA%3D%3D&numOfRows=10&pageNo=1&dataCd=ASOS&dateCd=DAY&startDt=20100101&endDt=20100102&stnIds=108\")\n",
    "par_dic = parse_qs(url.query)\n",
    "for key in par_dic:\n",
    "    par_dic[key] = par_dic[key][0]\n",
    "par_dic"
   ]
  },
  {
   "cell_type": "code",
   "execution_count": 81,
   "metadata": {},
   "outputs": [],
   "source": [
    "def get_daily_data(start_date):\n",
    "    start_date=start_date \n",
    "    end_date=str(datetime.date.today()-datetime.timedelta(1)).replace('-','')\n",
    "    url='http://apis.data.go.kr/1360000/AsosDalyInfoService/getWthrDataList'\n",
    "\n",
    "    \n",
    "    params={'serviceKey': unquote('13nWfyvckU06jS8j02cgKEde9gF7%2B9BZ%2BOFcpgpuu%2FnNRbR64QYGlNEzN7b%2F9D4RI3uFKkJ97YT9mf5X3FMIUA%3D%3D'),\n",
    "            'numOfRows': '200',\n",
    "            'pageNo': '1',\n",
    "            'dataCd': 'ASOS',\n",
    "            'dateCd': 'DAY',\n",
    "            'startDt': start_date,\n",
    "            'endDt': end_date,\n",
    "            'stnIds': '108',\n",
    "            'dataType':'JSON'\n",
    "           }\n",
    "\n",
    "    resp = requests.get(url, params=params)\n",
    "    result= json.loads(resp.text)\n",
    "    return result"
   ]
  },
  {
   "cell_type": "code",
   "execution_count": 60,
   "metadata": {},
   "outputs": [],
   "source": [
    "def data_to_DataFrame(result):\n",
    "    total_data=result['response']['body']['items']['item']\n",
    "    \n",
    "    result = {'날짜':[],\n",
    "              '최저기온':[],\n",
    "              '최고기온':[],\n",
    "              '비':[],\n",
    "              '강수량':[],\n",
    "             }\n",
    "    for data in total_data:\n",
    "        result['날짜'].append(data['tm'])\n",
    "        result['최저기온'].append(data['minTa'])\n",
    "        result['최고기온'].append(data['maxTa'])\n",
    "        if data['sumRn']>0:\n",
    "            result['비'].append('O')\n",
    "        else:\n",
    "            result['비'].append('X')\n",
    "        result['강수량'].append(data['sumRn'])\n",
    "        \n",
    "    df=pd.DataFrame(result)\n",
    "    \n",
    "    return df"
   ]
  },
  {
   "cell_type": "code",
   "execution_count": 96,
   "metadata": {},
   "outputs": [],
   "source": [
    "def append_today(data):\n",
    "    url = 'https://www.weatheri.co.kr/forecast/forecast01.php'\n",
    "    resp = requests.get(url)\n",
    "    soup = BeautifulSoup(resp.content, from_encoding='utf-8')\n",
    "    attrs={'width':'615',\n",
    "      'border':'0',\n",
    "      'cellpadding':'1',\n",
    "      'cellspacing':'1',\n",
    "       'bgcolor':'#BCBFC2'\n",
    "      }\n",
    "    inner_table = soup.find('table',attrs=attrs)\n",
    "    date = inner_table.select('td b')[0].text\n",
    "    date = '2020-{0}-{1}'.format(date.split()[0][:2],date.split()[1][:2])\n",
    "    high = inner_table.select('table tr td b font')[0].text\n",
    "    high = high.replace('˚C','')\n",
    "    low = inner_table.select('table tr td b font')[0].text\n",
    "    low = low.replace('˚C','')\n",
    "    sum_rain=inner_table.select('table tr td font')[-1].text\n",
    "    if sum_rain !='- mm':\n",
    "        rain='O'\n",
    "        sum_rain = sum_rain.split()[0]\n",
    "        \n",
    "    else:\n",
    "        rain='X'\n",
    "        sum_rain = 0\n",
    "        \n",
    "    new_data=pd.DataFrame({'날짜':[date],\n",
    "             '최저기온':[low],\n",
    "             '최고기온':[high],\n",
    "             '비':[rain],\n",
    "             '강수량':[sum_rain]})\n",
    "    print(sum_rain)\n",
    "    data = data.append(new_data,ignore_index=True)\n",
    "    print(data)\n",
    "    return data"
   ]
  },
  {
   "cell_type": "code",
   "execution_count": 97,
   "metadata": {},
   "outputs": [
    {
     "name": "stdout",
     "output_type": "stream",
     "text": [
      "21.1\n",
      "            날짜  최저기온  최고기온  비   강수량\n",
      "0   2020-05-01  16.4  26.2  X     0\n",
      "1   2020-05-02    18  23.9  X     0\n",
      "2   2020-05-03    17  27.4  X     0\n",
      "3   2020-05-04  14.8  25.3  X     0\n",
      "4   2020-05-05  13.1  19.3  X     0\n",
      "5   2020-05-06  11.1  27.6  X     0\n",
      "6   2020-05-07  14.9  26.5  X     0\n",
      "7   2020-05-08  14.3  27.3  O   2.3\n",
      "8   2020-05-09  12.7  16.8  O  24.4\n",
      "9   2020-05-10  12.8  16.6  O   1.3\n",
      "10  2020-05-11  12.4    22  O   3.4\n",
      "11  2020-05-12  10.5  18.9  O   0.7\n",
      "12  2020-05-13  10.2  21.8  X     0\n",
      "13  2020-05-14  12.4  25.4  X     0\n",
      "14  2020-05-15  14.1  20.2  O    12\n",
      "15  2020-05-16    15  20.3  O   2.5\n",
      "16  2020-05-17  14.6  24.9  X     0\n",
      "17  2020-05-18  13.2  26.8  O  29.8\n",
      "18  2020-05-19  10.1  17.1  O    19\n",
      "19  2020-05-20   9.2  20.1  X     0\n",
      "20  2020-05-21  10.9  22.9  X     0\n",
      "21  2020-05-22  14.8  22.7  X     0\n",
      "22  2020-05-23  16.6    25  X     0\n",
      "23  2020-05-24  14.3  20.2  O  14.5\n",
      "24  2020-05-25  13.7  21.3  X     0\n",
      "25  2020-05-26  12.7  22.9  O   1.5\n",
      "26  2020-05-27  11.8  23.9  X     0\n",
      "27  2020-05-28  14.2  23.4  X     0\n",
      "28  2020-05-29  14.6  27.6  X     0\n",
      "29  2020-05-30  16.5    30  X     0\n",
      "30  2020-05-31  17.6    28  O     1\n",
      "31  2020-06-01  16.6  24.5  O   0.4\n",
      "32  2020-06-02  14.8  21.8  O     2\n",
      "33  2020-06-03  17.6  28.4  X     0\n",
      "34  2020-06-04  19.7  26.5  O   0.2\n",
      "35  2020-06-05  18.4  28.7  X     0\n",
      "36  2020-06-06  19.2  30.9  X     0\n",
      "37  2020-06-07  19.2  29.2  X     0\n",
      "38  2020-06-08  19.8    32  X     0\n",
      "39  2020-06-09    32    32  O  21.1\n"
     ]
    }
   ],
   "source": [
    "result=get_daily_data('20200501')\n",
    "output=data_to_DataFrame(result)\n",
    "d=append_today(output)"
   ]
  },
  {
   "cell_type": "code",
   "execution_count": 65,
   "metadata": {},
   "outputs": [],
   "source": [
    "d.to_excel('weather_crawling.xlsx')"
   ]
  }
 ],
 "metadata": {
  "kernelspec": {
   "display_name": "Python 3",
   "language": "python",
   "name": "python3"
  },
  "language_info": {
   "codemirror_mode": {
    "name": "ipython",
    "version": 3
   },
   "file_extension": ".py",
   "mimetype": "text/x-python",
   "name": "python",
   "nbconvert_exporter": "python",
   "pygments_lexer": "ipython3",
   "version": "3.7.3"
  }
 },
 "nbformat": 4,
 "nbformat_minor": 4
}
