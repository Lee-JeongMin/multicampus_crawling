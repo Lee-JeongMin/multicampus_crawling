{
 "cells": [
  {
   "cell_type": "markdown",
   "metadata": {},
   "source": [
    "# 날씨 데이터 크롤링\n",
    "\n",
    "출처: https://www.data.go.kr/  \n",
    "ASOS 종관기상관측 데이터 활용"
   ]
  },
  {
   "cell_type": "markdown",
   "metadata": {},
   "source": [
    "# URL 설정"
   ]
  },
  {
   "cell_type": "markdown",
   "metadata": {},
   "source": [
    "# 시간별자료"
   ]
  },
  {
   "cell_type": "code",
   "execution_count": 1,
   "metadata": {},
   "outputs": [],
   "source": [
    "from urllib.request import urlopen\n",
    "from urllib.parse import urlencode, unquote, quote_plus\n",
    "import urllib\n",
    "import requests\n",
    "import json\n",
    "import pandas as pd\n",
    "from bs4 import BeautifulSoup\n",
    "from selenium import webdriver\n",
    "import time\n",
    "import numpy as np"
   ]
  },
  {
   "cell_type": "code",
   "execution_count": 2,
   "metadata": {},
   "outputs": [],
   "source": [
    "key='13nWfyvckU06jS8j02cgKEde9gF7%2B9BZ%2BOFcpgpuu%2FnNRbR64QYGlNEzN7b%2F9D4RI3uFKkJ97YT9mf5X3FMIUA%3D%3D'\n",
    "url=\"http://data.kma.go.kr/apiData/getData\"\n"
   ]
  },
  {
   "cell_type": "markdown",
   "metadata": {},
   "source": [
    "### api 설명서에 있는 활용가이드에서 요청/응답 메세지 예제를 확인한다\n",
    "\n",
    "### urlparse, parse_qs를 통해 파라미터로 나눠준다"
   ]
  },
  {
   "cell_type": "code",
   "execution_count": 3,
   "metadata": {},
   "outputs": [
    {
     "data": {
      "text/plain": [
       "{'serviceKey': '13nWfyvckU06jS8j02cgKEde9gF7+9BZ+OFcpgpuu/nNRbR64QYGlNEzN7b/9D4RI3uFKkJ97YT9mf5X3FMIUA==',\n",
       " 'numOfRows': '10',\n",
       " 'pageNo': '1',\n",
       " 'dataCd': 'ASOS',\n",
       " 'dateCd': 'HR',\n",
       " 'stnIds': '108',\n",
       " 'schListCnt': '10',\n",
       " 'endDt': '20200101',\n",
       " 'endHh': '01',\n",
       " 'startHh': '01',\n",
       " 'startDt': '20100101',\n",
       " 'dataType': 'JSON'}"
      ]
     },
     "execution_count": 3,
     "metadata": {},
     "output_type": "execute_result"
    }
   ],
   "source": [
    "from urllib.parse import urlparse, parse_qs\n",
    "url = urlparse(\"http://apis.data.go.kr/1360000/AsosHourlyInfoService/getWthrDataList?serviceKey=13nWfyvckU06jS8j02cgKEde9gF7%2B9BZ%2BOFcpgpuu%2FnNRbR64QYGlNEzN7b%2F9D4RI3uFKkJ97YT9mf5X3FMIUA%3D%3D&numOfRows=10&pageNo=1&dataCd=ASOS&dateCd=HR&stnIds=108&schListCnt=10&endDt=20200101&endHh=01&startHh=01&startDt=20100101&dataType=JSON\")\n",
    "par_dic = parse_qs(url.query)\n",
    "for key in par_dic:\n",
    "    par_dic[key] = par_dic[key][0]\n",
    "par_dic"
   ]
  },
  {
   "cell_type": "code",
   "execution_count": 4,
   "metadata": {
    "scrolled": true
   },
   "outputs": [],
   "source": [
    "def get_hourly_data(start_date, start_hour,end_date,end_hour):\n",
    "    start_date=start_date\n",
    "    start_hour=start_hour\n",
    "    end_date=end_date\n",
    "    end_hour=end_hour\n",
    "    url='http://apis.data.go.kr/1360000/AsosHourlyInfoService/getWthrDataList'\n",
    "\n",
    "    \n",
    "    params={'serviceKey': '13nWfyvckU06jS8j02cgKEde9gF7+9BZ+OFcpgpuu/nNRbR64QYGlNEzN7b/9D4RI3uFKkJ97YT9mf5X3FMIUA==',\n",
    "     'numOfRows': '10',\n",
    "     'pageNo': '1',\n",
    "     'dataCd': 'ASOS',\n",
    "     'dateCd': 'HR',\n",
    "     'stnIds': '108',\n",
    "     'schListCnt': '10',\n",
    "     'endDt': end_date,\n",
    "     'endHh': end_hour,\n",
    "     'startHh': start_hour,\n",
    "     'startDt': start_date,\n",
    "     'dataType': 'JSON'\n",
    "           }\n",
    "\n",
    "    resp = requests.get(url, params=params)\n",
    "    #result= json.loads(resp.text)\n",
    "\n",
    "    return resp.text"
   ]
  },
  {
   "cell_type": "code",
   "execution_count": 5,
   "metadata": {},
   "outputs": [
    {
     "data": {
      "text/plain": [
       "{'response': {'header': {'resultCode': '00', 'resultMsg': 'NORMAL_SERVICE'},\n",
       "  'body': {'dataType': 'JSON',\n",
       "   'items': {'item': [{'tm': '2020-06-05 08:00',\n",
       "      'rnum': '1',\n",
       "      'stnId': '108',\n",
       "      'ta': 19.9,\n",
       "      'taQcflg': '',\n",
       "      'rn': 0.0,\n",
       "      'rnQcflg': '',\n",
       "      'ws': 2.2,\n",
       "      'wsQcflg': '',\n",
       "      'wd': 320,\n",
       "      'wdQcflg': '',\n",
       "      'hm': 86,\n",
       "      'hmQcflg': '',\n",
       "      'pv': 19.9,\n",
       "      'td': 17.4,\n",
       "      'pa': 998.0,\n",
       "      'paQcflg': '',\n",
       "      'ps': 1007.9,\n",
       "      'psQcflg': '',\n",
       "      'ss': 0.1,\n",
       "      'ssQcflg': '',\n",
       "      'icsr': 0.52,\n",
       "      'dsnw': 0.0,\n",
       "      'hr3Fhsc': 0.0,\n",
       "      'dc10Tca': 10,\n",
       "      'dc10LmcsCa': 10,\n",
       "      'clfmAbbrCd': 'St',\n",
       "      'lcsCh': 6,\n",
       "      'vs': 507,\n",
       "      'gndSttCd': 0,\n",
       "      'dmstMtphNo': '19',\n",
       "      'ts': 24.8,\n",
       "      'tsQcflg': '',\n",
       "      'm005Te': 21.5,\n",
       "      'm01Te': 22.3,\n",
       "      'm02Te': 21.7,\n",
       "      'm03Te': 22.1,\n",
       "      'stnNm': '서울'},\n",
       "     {'tm': '2020-06-05 09:00',\n",
       "      'rnum': '2',\n",
       "      'stnId': '108',\n",
       "      'ta': 21.0,\n",
       "      'taQcflg': '',\n",
       "      'rn': 0.0,\n",
       "      'rnQcflg': '',\n",
       "      'ws': 1.5,\n",
       "      'wsQcflg': '',\n",
       "      'wd': 270,\n",
       "      'wdQcflg': '',\n",
       "      'hm': 77,\n",
       "      'hmQcflg': '',\n",
       "      'pv': 19.1,\n",
       "      'td': 16.8,\n",
       "      'pa': 998.0,\n",
       "      'paQcflg': '',\n",
       "      'ps': 1007.9,\n",
       "      'psQcflg': '',\n",
       "      'ss': 0.2,\n",
       "      'ssQcflg': '',\n",
       "      'icsr': 1.23,\n",
       "      'dsnw': 0.0,\n",
       "      'hr3Fhsc': 0.0,\n",
       "      'dc10Tca': 7,\n",
       "      'dc10LmcsCa': 7,\n",
       "      'clfmAbbrCd': 'Sc',\n",
       "      'lcsCh': 7,\n",
       "      'vs': 681,\n",
       "      'gndSttCd': 0,\n",
       "      'dmstMtphNo': '19',\n",
       "      'ts': 29.7,\n",
       "      'tsQcflg': '',\n",
       "      'm005Te': 22.4,\n",
       "      'm01Te': 22.2,\n",
       "      'm02Te': 22.0,\n",
       "      'm03Te': 22.0,\n",
       "      'stnNm': '서울'}]},\n",
       "   'pageNo': 1,\n",
       "   'numOfRows': 10,\n",
       "   'totalCount': 2}}}"
      ]
     },
     "execution_count": 5,
     "metadata": {},
     "output_type": "execute_result"
    }
   ],
   "source": [
    "data=get_hourly_data('20200605','08','20200605','09')\n",
    "json.loads(data)"
   ]
  },
  {
   "cell_type": "markdown",
   "metadata": {},
   "source": [
    "# 일별데이터 출력"
   ]
  },
  {
   "cell_type": "code",
   "execution_count": 6,
   "metadata": {},
   "outputs": [
    {
     "data": {
      "text/plain": [
       "{'serviceKey': '13nWfyvckU06jS8j02cgKEde9gF7+9BZ+OFcpgpuu/nNRbR64QYGlNEzN7b/9D4RI3uFKkJ97YT9mf5X3FMIUA==',\n",
       " 'numOfRows': '10',\n",
       " 'pageNo': '1',\n",
       " 'dataCd': 'ASOS',\n",
       " 'dateCd': 'DAY',\n",
       " 'startDt': '20100101',\n",
       " 'endDt': '20100102',\n",
       " 'stnIds': '108'}"
      ]
     },
     "execution_count": 6,
     "metadata": {},
     "output_type": "execute_result"
    }
   ],
   "source": [
    "from urllib.parse import urlparse, parse_qs\n",
    "url = urlparse(\"http://apis.data.go.kr/1360000/AsosDalyInfoService/getWthrDataList?serviceKey=13nWfyvckU06jS8j02cgKEde9gF7%2B9BZ%2BOFcpgpuu%2FnNRbR64QYGlNEzN7b%2F9D4RI3uFKkJ97YT9mf5X3FMIUA%3D%3D&numOfRows=10&pageNo=1&dataCd=ASOS&dateCd=DAY&startDt=20100101&endDt=20100102&stnIds=108\")\n",
    "par_dic = parse_qs(url.query)\n",
    "for key in par_dic:\n",
    "    par_dic[key] = par_dic[key][0]\n",
    "par_dic"
   ]
  },
  {
   "cell_type": "code",
   "execution_count": 7,
   "metadata": {},
   "outputs": [],
   "source": [
    "def get_daily_data(start_date,end_date):\n",
    "    start_date=start_date\n",
    "    end_date=end_date\n",
    "    url='http://apis.data.go.kr/1360000/AsosDalyInfoService/getWthrDataList'\n",
    "\n",
    "    \n",
    "    params={'serviceKey': unquote('13nWfyvckU06jS8j02cgKEde9gF7%2B9BZ%2BOFcpgpuu%2FnNRbR64QYGlNEzN7b%2F9D4RI3uFKkJ97YT9mf5X3FMIUA%3D%3D'),\n",
    "            'numOfRows': '200',\n",
    "            'pageNo': '1',\n",
    "            'dataCd': 'ASOS',\n",
    "            'dateCd': 'DAY',\n",
    "            'startDt': start_date,\n",
    "            'endDt': end_date,\n",
    "            'stnIds': '108',\n",
    "            'dataType':'JSON'\n",
    "           }\n",
    "\n",
    "    resp = requests.get(url, params=params)\n",
    "    result= json.loads(resp.text)\n",
    "    return result"
   ]
  },
  {
   "cell_type": "code",
   "execution_count": 8,
   "metadata": {},
   "outputs": [],
   "source": [
    "def data_to_DataFrame(result):\n",
    "    total_data=result['response']['body']['items']['item']\n",
    "    \n",
    "    result = {'날짜':[],\n",
    "              '최저기온':[],\n",
    "              '최고기온':[],\n",
    "              '비':[],\n",
    "              '강수량':[],\n",
    "              '날씨':[],\n",
    "             }\n",
    "    for data in total_data:\n",
    "        avg = (data['minTa']+data['maxTa'])/2\n",
    "        result['날짜'].append(data['tm'])\n",
    "        result['최저기온'].append(data['minTa'])\n",
    "        result['최고기온'].append(data['maxTa'])\n",
    "        avg = (data['minTa']+data['maxTa'])/2\n",
    "        if data['sumRn']>0:\n",
    "            result['비'].append('O')\n",
    "            result['날씨'].append('비')\n",
    "        else:\n",
    "            if avg<10:\n",
    "                result['날씨'].append('추움')\n",
    "            elif avg<20:\n",
    "                result['날씨'].append('쌀쌀')\n",
    "            else:\n",
    "                result['날씨'].append('더움')\n",
    "            result['비'].append('X')\n",
    "        result['강수량'].append(data['sumRn'])\n",
    "        \n",
    "        \n",
    "    df=pd.DataFrame(result)\n",
    "    \n",
    "    return df"
   ]
  },
  {
   "cell_type": "code",
   "execution_count": 9,
   "metadata": {},
   "outputs": [],
   "source": [
    "def append_today(data):\n",
    "    url = 'https://www.weatheri.co.kr/forecast/forecast01.php'\n",
    "    resp = requests.get(url)\n",
    "    soup = BeautifulSoup(resp.content, from_encoding='utf-8')\n",
    "    attrs={'width':'615',\n",
    "      'border':'0',\n",
    "      'cellpadding':'1',\n",
    "      'cellspacing':'1',\n",
    "       'bgcolor':'#BCBFC2'\n",
    "      }\n",
    "    inner_table = soup.find('table',attrs=attrs)\n",
    "    date = inner_table.select('td b')[0].text\n",
    "    date = '2020-{0}-{1}'.format(date.split()[0][:2],date.split()[1][:2])\n",
    "    high = inner_table.select('table tr td b font')[0].text\n",
    "    low = inner_table.select('table tr td b font')[0].text\n",
    "    sum_rain=inner_table.select('table tr td font')[-1].text\n",
    "    if sum_rain !='- mm':\n",
    "        rain='O',\n",
    "    else:\n",
    "        rain='X'\n",
    "    \n",
    "    new_data=pd.DataFrame({'날짜':[date],\n",
    "             '최저기온':[low],\n",
    "             '최고기온':[high],\n",
    "             '비':[rain],\n",
    "             '강수량':[sum_rain]})    \n",
    "    \n",
    "    \n",
    "    \n",
    "    data = data.append(new_data,ignore_index=True)\n",
    "    print(data)\n",
    "    return data"
   ]
  },
  {
   "cell_type": "code",
   "execution_count": 10,
   "metadata": {},
   "outputs": [
    {
     "name": "stdout",
     "output_type": "stream",
     "text": [
      "             날짜  최저기온  최고기온  비   강수량   날씨\n",
      "0    2020-01-01  -6.5   0.3  O   0.1    비\n",
      "1    2020-01-02  -0.7   3.8  X     0   추움\n",
      "2    2020-01-03  -3.4   4.6  X     0   추움\n",
      "3    2020-01-04  -2.8   6.1  X     0   추움\n",
      "4    2020-01-05  -3.2   6.6  X     0   추움\n",
      "..          ...   ...   ... ..   ...  ...\n",
      "153  2020-06-02  14.8  21.8  O     2    비\n",
      "154  2020-06-03  17.6  28.4  X     0   더움\n",
      "155  2020-06-04  19.7  26.5  O   0.2    비\n",
      "156  2020-06-05  18.4  28.7  X     0   더움\n",
      "157  2020-06-07  28˚C  28˚C  X  - mm  NaN\n",
      "\n",
      "[158 rows x 6 columns]\n"
     ]
    }
   ],
   "source": [
    "result=get_daily_data('20200101','20200605')\n",
    "output=data_to_DataFrame(result)\n",
    "d=append_today(output)"
   ]
  },
  {
   "cell_type": "code",
   "execution_count": 11,
   "metadata": {},
   "outputs": [],
   "source": [
    "d.to_excel('테스트.xlsx')"
   ]
  },
  {
   "cell_type": "code",
   "execution_count": 61,
   "metadata": {},
   "outputs": [
    {
     "data": {
      "text/plain": [
       "0        비\n",
       "1       추움\n",
       "2       추움\n",
       "3       추움\n",
       "4       추움\n",
       "      ... \n",
       "153      비\n",
       "154     더움\n",
       "155      비\n",
       "156     더움\n",
       "157    NaN\n",
       "Name: 날씨, Length: 158, dtype: object"
      ]
     },
     "execution_count": 61,
     "metadata": {},
     "output_type": "execute_result"
    }
   ],
   "source": [
    "d['날씨']"
   ]
  },
  {
   "cell_type": "code",
   "execution_count": 12,
   "metadata": {},
   "outputs": [],
   "source": [
    "driver = webdriver.Chrome('C:\\chromedriver.exe')\n",
    "driver.get('https://www.melon.com/')"
   ]
  },
  {
   "cell_type": "code",
   "execution_count": 13,
   "metadata": {},
   "outputs": [],
   "source": [
    "# melon Dj 카테고리 선택\n",
    "melon_dj = driver.find_element_by_xpath('//*[@id=\"gnb_menu\"]/ul[1]/li[4]/a/span[2]').click()\n",
    "song_info = {}"
   ]
  },
  {
   "cell_type": "code",
   "execution_count": 14,
   "metadata": {},
   "outputs": [],
   "source": [
    "# 태그 검색\n",
    "\n",
    "#weather = '비오는날'# 날씨 조건문 설정\n",
    "def enter_weather(weather):\n",
    "    driver.implicitly_wait(100)\n",
    "    tag_input = driver.find_element_by_class_name('input_text')\n",
    "    tag_input.send_keys(weather)\n",
    "    xpath = driver.find_element_by_xpath('//*[@id=\"conts\"]/div[1]/div[2]/div[2]/button')\n",
    "    driver.execute_script(\"arguments[0].click();\", xpath)                                     # selenium에서 클릭이 안 될때 클릭 하는 법\n"
   ]
  },
  {
   "cell_type": "code",
   "execution_count": 15,
   "metadata": {},
   "outputs": [],
   "source": [
    "# 개별 palylist에서 노래 정보 크롤링 함수\n",
    "def info_select():\n",
    "    body = driver.find_element_by_tag_name('tbody')\n",
    "    trs = body.find_elements_by_tag_name('tr')   #노래 정보 tag\n",
    "\n",
    "\n",
    "    titles = []\n",
    "    singer = []\n",
    "    likes = []\n",
    "\n",
    "\n",
    "    for tr in trs:\n",
    "        # 노래제목, 가수 각각 리스트에 저장\n",
    "        name = tr.find_element_by_css_selector('div.ellipsis.rank01 a').text\n",
    "        artist = tr.find_element_by_css_selector('div.ellipsis.rank02 a').text\n",
    "        titles.append(name)\n",
    "        singer.append(artist)\n",
    "\n",
    "        # 좋아요 수 리스트에 저장\n",
    "        cnt = tr.find_element_by_css_selector('span.cnt').text\n",
    "        cnt = int(float(cnt.replace(',', '')))                   #문자열 숫자로 변환\n",
    "        likes.append(cnt)\n",
    "        #break\n",
    "\n",
    "    # (노래제목, 가수) 튜플 생성\n",
    "    info = list(zip(titles,singer))\n",
    "    #print(info)\n",
    "\n",
    "    # {(노래제목, 가수) : 좋아요 수 } 딕셔너리 생성\n",
    "    for i in range(len(likes)):\n",
    "        if info[i] in song_info:   # 같은 노래와 가수가 있으면 50점 추가\n",
    "            song_info[info[i]] += 50\n",
    "        else:\n",
    "            song_info[info[i]] = likes[i]\n"
   ]
  },
  {
   "cell_type": "code",
   "execution_count": 16,
   "metadata": {},
   "outputs": [],
   "source": [
    "#플레이 리스트 목록\n",
    "def select_song_info():\n",
    "    driver.implicitly_wait(100)\n",
    "    dj_play_list = driver.find_element_by_xpath('//*[@id=\"djPlylstList\"]/div')\n",
    "    lis = dj_play_list.find_elements_by_tag_name('li')\n",
    "    lis_len = len(lis)\n",
    "\n",
    "    # 각 플레이 리스트 들어갔다 나오기\n",
    "    for i in range(lis_len):\n",
    "        dj_play_list = driver.find_element_by_xpath('//*[@id=\"djPlylstList\"]/div')  # 한 플레이 리스트를 들어갔다 나오면 정보가 새로 바뀌므로 오류 발생, for문 안에 lis 생성하여 저장\n",
    "        lis = dj_play_list.find_elements_by_tag_name('li')\n",
    "        elem = lis[i].find_element_by_css_selector('a')\n",
    "        driver.implicitly_wait(100)\n",
    "        driver.execute_script(\"arguments[0].click();\", elem)  # play list click\n",
    "        info_select()    # (노래제목,가수),좋아요 함수 호출\n",
    "        driver.back()    # 플레이 리스트에서 목록 페이지로 돌아가기\n",
    "   "
   ]
  },
  {
   "cell_type": "code",
   "execution_count": 17,
   "metadata": {},
   "outputs": [],
   "source": [
    "#결과 출력\n",
    "def print_result():\n",
    "    result = {\n",
    "        '날짜':[],\n",
    "        '노래제목': [],\n",
    "        '가수': [],\n",
    "        '좋아요 수': []\n",
    "    }\n",
    "    title_result = []\n",
    "    singer_result = []\n",
    "    likes_result = []\n",
    "    for i in range(5):\n",
    "        rank = i+1\n",
    "        title_result = song_info[i][0][0]\n",
    "        singer_result = song_info[i][0][1]\n",
    "        likes_result = song_info[i][1]\n",
    "        result['노래제목'].append(title_result)\n",
    "        result['가수'].append(singer_result)\n",
    "        result['좋아요 수'].append(likes_result)\n",
    "        #print(str(rank)+'위.',title_result,singer_result,likes_result)\n",
    "\n",
    "#         result.append([rank,title_result,singer_result,likes_result])\n"
   ]
  },
  {
   "cell_type": "code",
   "execution_count": null,
   "metadata": {},
   "outputs": [],
   "source": []
  },
  {
   "cell_type": "code",
   "execution_count": 21,
   "metadata": {},
   "outputs": [],
   "source": [
    "for i in d['날씨'][152:157]:\n",
    "    driver.implicitly_wait(100)\n",
    "    weather = i\n",
    "    enter_weather(weather)\n",
    "    select_song_info()\n",
    "    song_info = sorted(song_info.items(), key=lambda x: x[1], reverse=True)\n",
    "    driver.get('https://www.melon.com/')\n",
    "    melon_dj = driver.find_element_by_xpath('//*[@id=\"gnb_menu\"]/ul[1]/li[4]/a/span[2]').click()\n",
    "    song_info = {}\n"
   ]
  },
  {
   "cell_type": "code",
   "execution_count": 18,
   "metadata": {},
   "outputs": [
    {
     "name": "stdout",
     "output_type": "stream",
     "text": [
      "비\n",
      "추움\n",
      "추움\n",
      "추움\n",
      "추움\n",
      "비\n",
      "비\n",
      "비\n",
      "추움\n",
      "추움\n",
      "추움\n",
      "추움\n",
      "추움\n",
      "추움\n",
      "추움\n",
      "추움\n",
      "추움\n",
      "추움\n",
      "비\n",
      "추움\n",
      "추움\n",
      "추움\n",
      "추움\n",
      "추움\n",
      "추움\n",
      "추움\n",
      "비\n",
      "추움\n",
      "추움\n",
      "추움\n",
      "추움\n",
      "추움\n",
      "추움\n",
      "추움\n",
      "비\n",
      "추움\n",
      "추움\n",
      "추움\n",
      "추움\n",
      "추움\n",
      "추움\n",
      "추움\n",
      "비\n",
      "추움\n",
      "추움\n",
      "비\n",
      "비\n",
      "비\n",
      "추움\n",
      "추움\n",
      "추움\n",
      "비\n",
      "비\n",
      "추움\n",
      "추움\n",
      "비\n",
      "추움\n",
      "추움\n",
      "비\n",
      "비\n",
      "비\n",
      "추움\n",
      "추움\n",
      "추움\n",
      "추움\n",
      "추움\n",
      "추움\n",
      "추움\n",
      "쌀쌀\n",
      "비\n",
      "추움\n",
      "추움\n",
      "비\n",
      "추움\n",
      "추움\n",
      "추움\n",
      "추움\n",
      "추움\n",
      "추움\n",
      "추움\n",
      "쌀쌀\n",
      "쌀쌀\n",
      "쌀쌀\n",
      "쌀쌀\n",
      "쌀쌀\n",
      "비\n",
      "비\n",
      "추움\n",
      "추움\n",
      "쌀쌀\n",
      "쌀쌀\n",
      "쌀쌀\n",
      "추움\n",
      "쌀쌀\n",
      "추움\n",
      "추움\n",
      "추움\n"
     ]
    },
    {
     "ename": "StaleElementReferenceException",
     "evalue": "Message: stale element reference: element is not attached to the page document\n  (Session info: chrome=83.0.4103.97)\n",
     "output_type": "error",
     "traceback": [
      "\u001b[1;31m---------------------------------------------------------------------------\u001b[0m",
      "\u001b[1;31mStaleElementReferenceException\u001b[0m            Traceback (most recent call last)",
      "\u001b[1;32m<ipython-input-18-d649bebef0e9>\u001b[0m in \u001b[0;36m<module>\u001b[1;34m\u001b[0m\n\u001b[0;32m     11\u001b[0m     \u001b[0mprint\u001b[0m\u001b[1;33m(\u001b[0m\u001b[0mweather\u001b[0m\u001b[1;33m)\u001b[0m\u001b[1;33m\u001b[0m\u001b[1;33m\u001b[0m\u001b[0m\n\u001b[0;32m     12\u001b[0m     \u001b[0menter_weather\u001b[0m\u001b[1;33m(\u001b[0m\u001b[0mweather\u001b[0m\u001b[1;33m)\u001b[0m\u001b[1;33m\u001b[0m\u001b[1;33m\u001b[0m\u001b[0m\n\u001b[1;32m---> 13\u001b[1;33m     \u001b[0mselect_song_info\u001b[0m\u001b[1;33m(\u001b[0m\u001b[1;33m)\u001b[0m\u001b[1;33m\u001b[0m\u001b[1;33m\u001b[0m\u001b[0m\n\u001b[0m\u001b[0;32m     14\u001b[0m     \u001b[0msong_info\u001b[0m \u001b[1;33m=\u001b[0m \u001b[0msorted\u001b[0m\u001b[1;33m(\u001b[0m\u001b[0msong_info\u001b[0m\u001b[1;33m.\u001b[0m\u001b[0mitems\u001b[0m\u001b[1;33m(\u001b[0m\u001b[1;33m)\u001b[0m\u001b[1;33m,\u001b[0m \u001b[0mkey\u001b[0m\u001b[1;33m=\u001b[0m\u001b[1;32mlambda\u001b[0m \u001b[0mx\u001b[0m\u001b[1;33m:\u001b[0m \u001b[0mx\u001b[0m\u001b[1;33m[\u001b[0m\u001b[1;36m1\u001b[0m\u001b[1;33m]\u001b[0m\u001b[1;33m,\u001b[0m \u001b[0mreverse\u001b[0m\u001b[1;33m=\u001b[0m\u001b[1;32mTrue\u001b[0m\u001b[1;33m)\u001b[0m\u001b[1;33m\u001b[0m\u001b[1;33m\u001b[0m\u001b[0m\n\u001b[0;32m     15\u001b[0m \u001b[1;33m\u001b[0m\u001b[0m\n",
      "\u001b[1;32m<ipython-input-16-4aae485d2610>\u001b[0m in \u001b[0;36mselect_song_info\u001b[1;34m()\u001b[0m\n\u001b[0;32m     13\u001b[0m         \u001b[0mdriver\u001b[0m\u001b[1;33m.\u001b[0m\u001b[0mimplicitly_wait\u001b[0m\u001b[1;33m(\u001b[0m\u001b[1;36m100\u001b[0m\u001b[1;33m)\u001b[0m\u001b[1;33m\u001b[0m\u001b[1;33m\u001b[0m\u001b[0m\n\u001b[0;32m     14\u001b[0m         \u001b[0mdriver\u001b[0m\u001b[1;33m.\u001b[0m\u001b[0mexecute_script\u001b[0m\u001b[1;33m(\u001b[0m\u001b[1;34m\"arguments[0].click();\"\u001b[0m\u001b[1;33m,\u001b[0m \u001b[0melem\u001b[0m\u001b[1;33m)\u001b[0m  \u001b[1;31m# play list click\u001b[0m\u001b[1;33m\u001b[0m\u001b[1;33m\u001b[0m\u001b[0m\n\u001b[1;32m---> 15\u001b[1;33m         \u001b[0minfo_select\u001b[0m\u001b[1;33m(\u001b[0m\u001b[1;33m)\u001b[0m    \u001b[1;31m# (노래제목,가수),좋아요 함수 호출\u001b[0m\u001b[1;33m\u001b[0m\u001b[1;33m\u001b[0m\u001b[0m\n\u001b[0m\u001b[0;32m     16\u001b[0m         \u001b[0mdriver\u001b[0m\u001b[1;33m.\u001b[0m\u001b[0mback\u001b[0m\u001b[1;33m(\u001b[0m\u001b[1;33m)\u001b[0m    \u001b[1;31m# 플레이 리스트에서 목록 페이지로 돌아가기\u001b[0m\u001b[1;33m\u001b[0m\u001b[1;33m\u001b[0m\u001b[0m\n\u001b[0;32m     17\u001b[0m \u001b[1;33m\u001b[0m\u001b[0m\n",
      "\u001b[1;32m<ipython-input-15-f6d99471379a>\u001b[0m in \u001b[0;36minfo_select\u001b[1;34m()\u001b[0m\n\u001b[0;32m     18\u001b[0m \u001b[1;33m\u001b[0m\u001b[0m\n\u001b[0;32m     19\u001b[0m         \u001b[1;31m# 좋아요 수 리스트에 저장\u001b[0m\u001b[1;33m\u001b[0m\u001b[1;33m\u001b[0m\u001b[1;33m\u001b[0m\u001b[0m\n\u001b[1;32m---> 20\u001b[1;33m         \u001b[0mcnt\u001b[0m \u001b[1;33m=\u001b[0m \u001b[0mtr\u001b[0m\u001b[1;33m.\u001b[0m\u001b[0mfind_element_by_css_selector\u001b[0m\u001b[1;33m(\u001b[0m\u001b[1;34m'span.cnt'\u001b[0m\u001b[1;33m)\u001b[0m\u001b[1;33m.\u001b[0m\u001b[0mtext\u001b[0m\u001b[1;33m\u001b[0m\u001b[1;33m\u001b[0m\u001b[0m\n\u001b[0m\u001b[0;32m     21\u001b[0m         \u001b[0mcnt\u001b[0m \u001b[1;33m=\u001b[0m \u001b[0mint\u001b[0m\u001b[1;33m(\u001b[0m\u001b[0mfloat\u001b[0m\u001b[1;33m(\u001b[0m\u001b[0mcnt\u001b[0m\u001b[1;33m.\u001b[0m\u001b[0mreplace\u001b[0m\u001b[1;33m(\u001b[0m\u001b[1;34m','\u001b[0m\u001b[1;33m,\u001b[0m \u001b[1;34m''\u001b[0m\u001b[1;33m)\u001b[0m\u001b[1;33m)\u001b[0m\u001b[1;33m)\u001b[0m                   \u001b[1;31m#문자열 숫자로 변환\u001b[0m\u001b[1;33m\u001b[0m\u001b[1;33m\u001b[0m\u001b[0m\n\u001b[0;32m     22\u001b[0m         \u001b[0mlikes\u001b[0m\u001b[1;33m.\u001b[0m\u001b[0mappend\u001b[0m\u001b[1;33m(\u001b[0m\u001b[0mcnt\u001b[0m\u001b[1;33m)\u001b[0m\u001b[1;33m\u001b[0m\u001b[1;33m\u001b[0m\u001b[0m\n",
      "\u001b[1;32m~\\.conda\\envs\\multi_python\\lib\\site-packages\\selenium\\webdriver\\remote\\webelement.py\u001b[0m in \u001b[0;36mtext\u001b[1;34m(self)\u001b[0m\n\u001b[0;32m     74\u001b[0m     \u001b[1;32mdef\u001b[0m \u001b[0mtext\u001b[0m\u001b[1;33m(\u001b[0m\u001b[0mself\u001b[0m\u001b[1;33m)\u001b[0m\u001b[1;33m:\u001b[0m\u001b[1;33m\u001b[0m\u001b[1;33m\u001b[0m\u001b[0m\n\u001b[0;32m     75\u001b[0m         \u001b[1;34m\"\"\"The text of the element.\"\"\"\u001b[0m\u001b[1;33m\u001b[0m\u001b[1;33m\u001b[0m\u001b[0m\n\u001b[1;32m---> 76\u001b[1;33m         \u001b[1;32mreturn\u001b[0m \u001b[0mself\u001b[0m\u001b[1;33m.\u001b[0m\u001b[0m_execute\u001b[0m\u001b[1;33m(\u001b[0m\u001b[0mCommand\u001b[0m\u001b[1;33m.\u001b[0m\u001b[0mGET_ELEMENT_TEXT\u001b[0m\u001b[1;33m)\u001b[0m\u001b[1;33m[\u001b[0m\u001b[1;34m'value'\u001b[0m\u001b[1;33m]\u001b[0m\u001b[1;33m\u001b[0m\u001b[1;33m\u001b[0m\u001b[0m\n\u001b[0m\u001b[0;32m     77\u001b[0m \u001b[1;33m\u001b[0m\u001b[0m\n\u001b[0;32m     78\u001b[0m     \u001b[1;32mdef\u001b[0m \u001b[0mclick\u001b[0m\u001b[1;33m(\u001b[0m\u001b[0mself\u001b[0m\u001b[1;33m)\u001b[0m\u001b[1;33m:\u001b[0m\u001b[1;33m\u001b[0m\u001b[1;33m\u001b[0m\u001b[0m\n",
      "\u001b[1;32m~\\.conda\\envs\\multi_python\\lib\\site-packages\\selenium\\webdriver\\remote\\webelement.py\u001b[0m in \u001b[0;36m_execute\u001b[1;34m(self, command, params)\u001b[0m\n\u001b[0;32m    631\u001b[0m             \u001b[0mparams\u001b[0m \u001b[1;33m=\u001b[0m \u001b[1;33m{\u001b[0m\u001b[1;33m}\u001b[0m\u001b[1;33m\u001b[0m\u001b[1;33m\u001b[0m\u001b[0m\n\u001b[0;32m    632\u001b[0m         \u001b[0mparams\u001b[0m\u001b[1;33m[\u001b[0m\u001b[1;34m'id'\u001b[0m\u001b[1;33m]\u001b[0m \u001b[1;33m=\u001b[0m \u001b[0mself\u001b[0m\u001b[1;33m.\u001b[0m\u001b[0m_id\u001b[0m\u001b[1;33m\u001b[0m\u001b[1;33m\u001b[0m\u001b[0m\n\u001b[1;32m--> 633\u001b[1;33m         \u001b[1;32mreturn\u001b[0m \u001b[0mself\u001b[0m\u001b[1;33m.\u001b[0m\u001b[0m_parent\u001b[0m\u001b[1;33m.\u001b[0m\u001b[0mexecute\u001b[0m\u001b[1;33m(\u001b[0m\u001b[0mcommand\u001b[0m\u001b[1;33m,\u001b[0m \u001b[0mparams\u001b[0m\u001b[1;33m)\u001b[0m\u001b[1;33m\u001b[0m\u001b[1;33m\u001b[0m\u001b[0m\n\u001b[0m\u001b[0;32m    634\u001b[0m \u001b[1;33m\u001b[0m\u001b[0m\n\u001b[0;32m    635\u001b[0m     \u001b[1;32mdef\u001b[0m \u001b[0mfind_element\u001b[0m\u001b[1;33m(\u001b[0m\u001b[0mself\u001b[0m\u001b[1;33m,\u001b[0m \u001b[0mby\u001b[0m\u001b[1;33m=\u001b[0m\u001b[0mBy\u001b[0m\u001b[1;33m.\u001b[0m\u001b[0mID\u001b[0m\u001b[1;33m,\u001b[0m \u001b[0mvalue\u001b[0m\u001b[1;33m=\u001b[0m\u001b[1;32mNone\u001b[0m\u001b[1;33m)\u001b[0m\u001b[1;33m:\u001b[0m\u001b[1;33m\u001b[0m\u001b[1;33m\u001b[0m\u001b[0m\n",
      "\u001b[1;32m~\\.conda\\envs\\multi_python\\lib\\site-packages\\selenium\\webdriver\\remote\\webdriver.py\u001b[0m in \u001b[0;36mexecute\u001b[1;34m(self, driver_command, params)\u001b[0m\n\u001b[0;32m    319\u001b[0m         \u001b[0mresponse\u001b[0m \u001b[1;33m=\u001b[0m \u001b[0mself\u001b[0m\u001b[1;33m.\u001b[0m\u001b[0mcommand_executor\u001b[0m\u001b[1;33m.\u001b[0m\u001b[0mexecute\u001b[0m\u001b[1;33m(\u001b[0m\u001b[0mdriver_command\u001b[0m\u001b[1;33m,\u001b[0m \u001b[0mparams\u001b[0m\u001b[1;33m)\u001b[0m\u001b[1;33m\u001b[0m\u001b[1;33m\u001b[0m\u001b[0m\n\u001b[0;32m    320\u001b[0m         \u001b[1;32mif\u001b[0m \u001b[0mresponse\u001b[0m\u001b[1;33m:\u001b[0m\u001b[1;33m\u001b[0m\u001b[1;33m\u001b[0m\u001b[0m\n\u001b[1;32m--> 321\u001b[1;33m             \u001b[0mself\u001b[0m\u001b[1;33m.\u001b[0m\u001b[0merror_handler\u001b[0m\u001b[1;33m.\u001b[0m\u001b[0mcheck_response\u001b[0m\u001b[1;33m(\u001b[0m\u001b[0mresponse\u001b[0m\u001b[1;33m)\u001b[0m\u001b[1;33m\u001b[0m\u001b[1;33m\u001b[0m\u001b[0m\n\u001b[0m\u001b[0;32m    322\u001b[0m             response['value'] = self._unwrap_value(\n\u001b[0;32m    323\u001b[0m                 response.get('value', None))\n",
      "\u001b[1;32m~\\.conda\\envs\\multi_python\\lib\\site-packages\\selenium\\webdriver\\remote\\errorhandler.py\u001b[0m in \u001b[0;36mcheck_response\u001b[1;34m(self, response)\u001b[0m\n\u001b[0;32m    240\u001b[0m                 \u001b[0malert_text\u001b[0m \u001b[1;33m=\u001b[0m \u001b[0mvalue\u001b[0m\u001b[1;33m[\u001b[0m\u001b[1;34m'alert'\u001b[0m\u001b[1;33m]\u001b[0m\u001b[1;33m.\u001b[0m\u001b[0mget\u001b[0m\u001b[1;33m(\u001b[0m\u001b[1;34m'text'\u001b[0m\u001b[1;33m)\u001b[0m\u001b[1;33m\u001b[0m\u001b[1;33m\u001b[0m\u001b[0m\n\u001b[0;32m    241\u001b[0m             \u001b[1;32mraise\u001b[0m \u001b[0mexception_class\u001b[0m\u001b[1;33m(\u001b[0m\u001b[0mmessage\u001b[0m\u001b[1;33m,\u001b[0m \u001b[0mscreen\u001b[0m\u001b[1;33m,\u001b[0m \u001b[0mstacktrace\u001b[0m\u001b[1;33m,\u001b[0m \u001b[0malert_text\u001b[0m\u001b[1;33m)\u001b[0m\u001b[1;33m\u001b[0m\u001b[1;33m\u001b[0m\u001b[0m\n\u001b[1;32m--> 242\u001b[1;33m         \u001b[1;32mraise\u001b[0m \u001b[0mexception_class\u001b[0m\u001b[1;33m(\u001b[0m\u001b[0mmessage\u001b[0m\u001b[1;33m,\u001b[0m \u001b[0mscreen\u001b[0m\u001b[1;33m,\u001b[0m \u001b[0mstacktrace\u001b[0m\u001b[1;33m)\u001b[0m\u001b[1;33m\u001b[0m\u001b[1;33m\u001b[0m\u001b[0m\n\u001b[0m\u001b[0;32m    243\u001b[0m \u001b[1;33m\u001b[0m\u001b[0m\n\u001b[0;32m    244\u001b[0m     \u001b[1;32mdef\u001b[0m \u001b[0m_value_or_default\u001b[0m\u001b[1;33m(\u001b[0m\u001b[0mself\u001b[0m\u001b[1;33m,\u001b[0m \u001b[0mobj\u001b[0m\u001b[1;33m,\u001b[0m \u001b[0mkey\u001b[0m\u001b[1;33m,\u001b[0m \u001b[0mdefault\u001b[0m\u001b[1;33m)\u001b[0m\u001b[1;33m:\u001b[0m\u001b[1;33m\u001b[0m\u001b[1;33m\u001b[0m\u001b[0m\n",
      "\u001b[1;31mStaleElementReferenceException\u001b[0m: Message: stale element reference: element is not attached to the page document\n  (Session info: chrome=83.0.4103.97)\n"
     ]
    }
   ],
   "source": [
    "result_={\n",
    "        '날짜':[],\n",
    "        '노래':[],\n",
    "        '가수':[],\n",
    "        '좋아요 수':[]\n",
    "    }\n",
    "for i in range(len(d['날짜'])):\n",
    "    song_info = {}\n",
    "    date = d['날짜'][i]\n",
    "    weather = d['날씨'][i]\n",
    "    print(weather)\n",
    "    enter_weather(weather)\n",
    "    select_song_info()\n",
    "    song_info = sorted(song_info.items(), key=lambda x: x[1], reverse=True)\n",
    "\n",
    "    for j in range(5):\n",
    "        result_['날짜'].append(date),\n",
    "        result_['노래'].append(song_info[j][0][0]),\n",
    "        result_['가수'].append(song_info[j][0][1]),\n",
    "        result_['좋아요 수'].append(song_info[j][1])\n",
    "    driver.get('https://www.melon.com/')\n",
    "    melon_dj = driver.find_element_by_xpath('//*[@id=\"gnb_menu\"]/ul[1]/li[4]/a/span[2]').click()"
   ]
  },
  {
   "cell_type": "code",
   "execution_count": 19,
   "metadata": {},
   "outputs": [],
   "source": [
    "df = pd.DataFrame(result_)\n",
    "df.to_excel('테스트2.xlsx')"
   ]
  },
  {
   "cell_type": "code",
   "execution_count": null,
   "metadata": {},
   "outputs": [],
   "source": []
  },
  {
   "cell_type": "code",
   "execution_count": null,
   "metadata": {},
   "outputs": [],
   "source": []
  }
 ],
 "metadata": {
  "kernelspec": {
   "display_name": "Python 3",
   "language": "python",
   "name": "python3"
  },
  "language_info": {
   "codemirror_mode": {
    "name": "ipython",
    "version": 3
   },
   "file_extension": ".py",
   "mimetype": "text/x-python",
   "name": "python",
   "nbconvert_exporter": "python",
   "pygments_lexer": "ipython3",
   "version": "3.7.7"
  }
 },
 "nbformat": 4,
 "nbformat_minor": 4
}
