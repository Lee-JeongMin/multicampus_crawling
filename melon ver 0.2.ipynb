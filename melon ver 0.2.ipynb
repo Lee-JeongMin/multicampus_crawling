{
 "cells": [
  {
   "cell_type": "code",
   "execution_count": 43,
   "metadata": {},
   "outputs": [],
   "source": [
    "from selenium import webdriver\n",
    "import time\n",
    "driver = webdriver.Chrome('C:\\chromedriver.exe')"
   ]
  },
  {
   "cell_type": "code",
   "execution_count": 44,
   "metadata": {},
   "outputs": [],
   "source": [
    "driver.get('https://www.melon.com/')"
   ]
  },
  {
   "cell_type": "code",
   "execution_count": 45,
   "metadata": {},
   "outputs": [],
   "source": [
    "# melon Dj 카테고리 선택\n",
    "melon_dj = driver.find_element_by_xpath('//*[@id=\"gnb_menu\"]/ul[1]/li[4]/a/span[2]').click()\n",
    "song_info = {}"
   ]
  },
  {
   "cell_type": "code",
   "execution_count": 46,
   "metadata": {},
   "outputs": [],
   "source": [
    "# 태그 검색\n",
    "\n",
    "#weather = '비오는날'# 날씨 조건문 설정\n",
    "def enter_weather(weather):\n",
    "    driver.implicitly_wait(100)\n",
    "    tag_input = driver.find_element_by_class_name('input_text')\n",
    "    tag_input.send_keys(weather)\n",
    "    xpath = driver.find_element_by_xpath('//*[@id=\"conts\"]/div[1]/div[2]/div[2]/button')\n",
    "    driver.execute_script(\"arguments[0].click();\", xpath)                                     # selenium에서 클릭이 안 될때 클릭 하는 법\n"
   ]
  },
  {
   "cell_type": "code",
   "execution_count": 47,
   "metadata": {},
   "outputs": [],
   "source": [
    "# 개별 palylist에서 노래 정보 크롤링 함수\n",
    "def info_select():\n",
    "    body = driver.find_element_by_tag_name('tbody')\n",
    "    trs = body.find_elements_by_tag_name('tr')   #노래 정보 tag\n",
    "\n",
    "\n",
    "    titles = []\n",
    "    singer = []\n",
    "    likes = []\n",
    "\n",
    "\n",
    "    for tr in trs:\n",
    "        # 노래제목, 가수 각각 리스트에 저장\n",
    "        name = tr.find_element_by_css_selector('div.ellipsis.rank01 a').text\n",
    "        artist = tr.find_element_by_css_selector('div.ellipsis.rank02 a').text\n",
    "        titles.append(name)\n",
    "        singer.append(artist)\n",
    "\n",
    "        # 좋아요 수 리스트에 저장\n",
    "        cnt = tr.find_element_by_css_selector('span.cnt').text\n",
    "        cnt = int(float(cnt.replace(',', '')))                   #문자열 숫자로 변환\n",
    "        likes.append(cnt)\n",
    "        #break\n",
    "\n",
    "    # (노래제목, 가수) 튜플 생성\n",
    "    info = list(zip(titles,singer))\n",
    "    #print(info)\n",
    "\n",
    "    # {(노래제목, 가수) : 좋아요 수 } 딕셔너리 생성\n",
    "    for i in range(len(likes)):\n",
    "        if info[i] in song_info:   # 같은 노래와 가수가 있으면 50점 추가\n",
    "            song_info[info[i]] += 50\n",
    "        else:\n",
    "            song_info[info[i]] = likes[i]\n"
   ]
  },
  {
   "cell_type": "code",
   "execution_count": 48,
   "metadata": {},
   "outputs": [],
   "source": [
    "#플레이 리스트 목록\n",
    "def select_song_info():\n",
    "    driver.implicitly_wait(100)\n",
    "    dj_play_list = driver.find_element_by_xpath('//*[@id=\"djPlylstList\"]/div')\n",
    "    lis = dj_play_list.find_elements_by_tag_name('li')\n",
    "    lis_len = len(lis)\n",
    "\n",
    "    # 각 플레이 리스트 들어갔다 나오기\n",
    "    for i in range(lis_len):\n",
    "        dj_play_list = driver.find_element_by_xpath('//*[@id=\"djPlylstList\"]/div')  # 한 플레이 리스트를 들어갔다 나오면 정보가 새로 바뀌므로 오류 발생, for문 안에 lis 생성하여 저장\n",
    "        lis = dj_play_list.find_elements_by_tag_name('li')\n",
    "        elem = lis[i].find_element_by_css_selector('a')\n",
    "        driver.implicitly_wait(100)\n",
    "        driver.execute_script(\"arguments[0].click();\", elem)  # play list click\n",
    "        info_select()    # (노래제목,가수),좋아요 함수 호출\n",
    "        driver.back()    # 플레이 리스트에서 목록 페이지로 돌아가기\n",
    "   "
   ]
  },
  {
   "cell_type": "code",
   "execution_count": 49,
   "metadata": {},
   "outputs": [],
   "source": [
    "#결과 출력\n",
    "def print_result():\n",
    "    result = []\n",
    "    for i in range(5):\n",
    "        rank = i+1\n",
    "        title_result = song_info[i][0][0]\n",
    "        singer_result = song_info[i][0][1]\n",
    "        likes_result = song_info[i][1]\n",
    "        #print(str(rank)+'위.',title_result,singer_result,likes_result)\n",
    "\n",
    "        result.append([rank,title_result,singer_result,likes_result])\n"
   ]
  },
  {
   "cell_type": "code",
   "execution_count": 50,
   "metadata": {},
   "outputs": [],
   "source": [
    "enter_weather('맑은날씨')\n",
    "# enter_weather(weather)\n",
    "select_song_info()\n",
    "# 좋아요 수 기준으로 내림차순 만들기\n",
    "song_info = sorted(song_info.items(), key=lambda x: x[1], reverse=True)\n",
    "print_result()"
   ]
  },
  {
   "cell_type": "code",
   "execution_count": 51,
   "metadata": {},
   "outputs": [
    {
     "data": {
      "text/plain": [
       "[[1, '선물', '멜로망스', 292264],\n",
       " [2, 'Shape of You', 'Ed Sheeran', 282858],\n",
       " [3, '에잇(Prod.&Feat. SUGA of BTS)', '아이유', 265084],\n",
       " [4, '흔들리는 꽃들 속에서 네 샴푸향이 느껴진거야', '장범준', 243637],\n",
       " [5, 'Blueming', '아이유', 241608]]"
      ]
     },
     "execution_count": 51,
     "metadata": {},
     "output_type": "execute_result"
    }
   ],
   "source": [
    "result"
   ]
  }
 ],
 "metadata": {
  "kernelspec": {
   "display_name": "Python 3",
   "language": "python",
   "name": "python3"
  },
  "language_info": {
   "codemirror_mode": {
    "name": "ipython",
    "version": 3
   },
   "file_extension": ".py",
   "mimetype": "text/x-python",
   "name": "python",
   "nbconvert_exporter": "python",
   "pygments_lexer": "ipython3",
   "version": "3.7.7"
  }
 },
 "nbformat": 4,
 "nbformat_minor": 4
}
