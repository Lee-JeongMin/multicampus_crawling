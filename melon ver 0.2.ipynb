{
 "cells": [
  {
   "cell_type": "code",
   "execution_count": 1,
   "metadata": {},
   "outputs": [],
   "source": [
    "from selenium import webdriver\n",
    "import time\n",
    "driver = webdriver.Chrome('C:\\chromedriver.exe')"
   ]
  },
  {
   "cell_type": "code",
   "execution_count": 2,
   "metadata": {},
   "outputs": [],
   "source": [
    "driver.get('https://www.melon.com/')"
   ]
  },
  {
   "cell_type": "code",
   "execution_count": 3,
   "metadata": {},
   "outputs": [],
   "source": [
    "# melon Dj 카테고리 선택\n",
    "melon_dj = driver.find_element_by_xpath('//*[@id=\"gnb_menu\"]/ul[1]/li[4]/a/span[2]').click()"
   ]
  },
  {
   "cell_type": "code",
   "execution_count": 4,
   "metadata": {},
   "outputs": [],
   "source": [
    "# 태그 검색\n",
    "song_info = {}\n",
    "weather = '비오는날'# 날씨 조건문 설정\n",
    "\n",
    "driver.implicitly_wait(100)\n",
    "tag_input = driver.find_element_by_class_name('input_text')\n",
    "tag_input.send_keys(weather)\n",
    "xpath = driver.find_element_by_xpath('//*[@id=\"conts\"]/div[1]/div[2]/div[2]/button')\n",
    "driver.execute_script(\"arguments[0].click();\", xpath)                                     # selenium에서 클릭이 안 될때 클릭 하는 법\n"
   ]
  },
  {
   "cell_type": "code",
   "execution_count": 5,
   "metadata": {},
   "outputs": [],
   "source": [
    "# 개별 palylist에서 노래 정보 크롤링 함수\n",
    "def info_select():\n",
    "    body = driver.find_element_by_tag_name('tbody')\n",
    "    trs = body.find_elements_by_tag_name('tr')   #노래 정보 tag\n",
    "\n",
    "\n",
    "    titles = []\n",
    "    singer = []\n",
    "    likes = []\n",
    "\n",
    "\n",
    "    for tr in trs:\n",
    "        # 노래제목, 가수 각각 리스트에 저장\n",
    "        name = tr.find_element_by_css_selector('div.ellipsis.rank01 a').text\n",
    "        artist = tr.find_element_by_css_selector('div.ellipsis.rank02 a').text\n",
    "        titles.append(name)\n",
    "        singer.append(artist)\n",
    "\n",
    "        # 좋아요 수 리스트에 저장\n",
    "        cnt = tr.find_element_by_css_selector('span.cnt').text\n",
    "        cnt = int(float(cnt.replace(',', '')))                   #문자열 숫자로 변환\n",
    "        likes.append(cnt)\n",
    "        #break\n",
    "\n",
    "    # (노래제목, 가수) 튜플 생성\n",
    "    info = list(zip(titles,singer))\n",
    "    #print(info)\n",
    "\n",
    "    # {(노래제목, 가수) : 좋아요 수 } 딕셔너리 생성\n",
    "    for i in range(len(likes)):\n",
    "        if info[i] in song_info:   # 같은 노래와 가수가 있으면 50점 추가\n",
    "            song_info[info[i]] += 50\n",
    "        else:\n",
    "            song_info[info[i]] = likes[i]\n"
   ]
  },
  {
   "cell_type": "code",
   "execution_count": 6,
   "metadata": {},
   "outputs": [],
   "source": [
    "# selenium time 생성\n",
    "driver.implicitly_wait(100)"
   ]
  },
  {
   "cell_type": "code",
   "execution_count": 7,
   "metadata": {},
   "outputs": [],
   "source": [
    "#플레이 리스트 목록\n",
    "dj_play_list = driver.find_element_by_xpath('//*[@id=\"djPlylstList\"]/div')\n",
    "lis = dj_play_list.find_elements_by_tag_name('li')\n",
    "lis_len = len(lis)\n",
    "\n",
    "# 각 플레이 리스트 들어갔다 나오기\n",
    "for i in range(lis_len):\n",
    "    dj_play_list = driver.find_element_by_xpath('//*[@id=\"djPlylstList\"]/div')  # 한 플레이 리스트를 들어갔다 나오면 정보가 새로 바뀌므로 오류 발생, for문 안에 lis 생성하여 저장\n",
    "    lis = dj_play_list.find_elements_by_tag_name('li')\n",
    "    elem = lis[i].find_element_by_css_selector('a')\n",
    "    driver.implicitly_wait(100)\n",
    "    driver.execute_script(\"arguments[0].click();\", elem)  # play list click\n",
    "    info_select()    # (노래제목,가수),좋아요 함수 호출\n",
    "    driver.back()    # 플레이 리스트에서 목록 페이지로 돌아가기\n"
   ]
  },
  {
   "cell_type": "code",
   "execution_count": 8,
   "metadata": {},
   "outputs": [
    {
     "name": "stdout",
     "output_type": "stream",
     "text": [
      "[(('모든 날, 모든 순간 (Every day, Every Moment)', '폴킴'), 332083), (('너를 만나', '폴킴'), 260448), (('비', '폴킴'), 251429), (('비도 오고 그래서 (Feat. 신용재)', '헤이즈 (Heize)'), 248213), (('흔들리는 꽃들 속에서 네 샴푸향이 느껴진거야', '장범준'), 243448), (('bad guy', 'Billie Eilish'), 227500), (('바람기억', '나얼'), 214974), (('Paris In The Rain', 'Lauv'), 208681), (('그대라는 시', '태연 (TAEYEON)'), 169029), (('미안해', '양다일'), 169029), (('안녕', '폴킴'), 166212), (('걱정말아요 그대', '이적'), 164359), (('소나기', '아이오아이 (I.O.I)'), 163845), (('나의 옛날이야기', '아이유'), 158558), (('Rain', '태연 (TAEYEON)'), 158092), (('180도', '벤'), 155509), (('마음을 드려요', '아이유'), 150493), (('늦은 밤 너의 집 앞 골목길에서', '노을'), 145317), (('술이 문제야', '장혜진'), 143158), (('Señorita', 'Shawn Mendes'), 142540), (('그건 아마 우리의 잘못은 아닐 거야', '백예린'), 137546), (('좋아', '민서'), 135499), (('비가와 (Rain)', '소유 (SOYOU)'), 129018), (('부담이 돼 (Feat. 휘인 Of 마마무)', '정키'), 125605), (('신용재', '하은'), 125433), (('솔직하게 말해서 나', '김나영'), 122834), (('idontwannabeyouanymore', 'Billie Eilish'), 116149), (('너도 그냥 날 놓아주면 돼', '윤건'), 115825), (('끝', '권진아'), 114000), (('비가 오는 날엔', '비스트'), 110893), (('사랑이란 멜로는 없어', '전상근'), 106361), (('사랑이 식었다고 말해도 돼', '먼데이 키즈 (Monday Kiz)'), 100197), (('너에게', '성시경'), 96455), (('조금 취했어 (Prod. 2soo)', '임재현'), 96381), (('헤어지자 (Prod. 정키)', '휘인 (Whee In)'), 96138), (('거리에서', '성시경'), 89428), (('다시 난, 여기', '백예린'), 89052), (('우산', '윤하 (YOUNHA)'), 87532), (('우산 (Feat. 윤하)', '에픽하이 (EPIK HIGH)'), 85096), (('On My Way (배틀그라운드 모바일 배경음악)', 'Alan Walker'), 84327), (('인연', '이선희'), 79909), (('When We Were Young', 'Adele'), 76841), (('나빠(NAPPA)', 'Crush'), 76265), (('기억속의 먼 그대에게', '박효신'), 75888), (('다른사람을 사랑하고 있어', '수지 (SUZY)'), 75877), (('좋은 사람 있으면 소개시켜줘', '조이 (JOY)'), 74373), (('사랑이 지나가면', '아이유'), 72560), (('꿈속에 너 (Feat. 전상근)', '에이치코드 (H:CODE)'), 71186), (('별 보러 가자', '적재'), 70432), (('비가 내리는 날에는', '윤하 (YOUNHA)'), 69300), (('술 한잔 해요', '지아'), 68076), (('허전해', '폴킴'), 67990), (('7월 7일 (One Of These Nights)', 'Red Velvet (레드벨벳)'), 67565), (('바보야', '허각'), 67554), (('If I Can`t Have You', 'Shawn Mendes'), 65068), (('소주 한 잔', '임창정'), 64311), (('십이월 이십오일의 고백', '정승환'), 64163), (('꿈에', '박정현'), 63755), (('오늘 헤어졌어요', '윤하 (YOUNHA)'), 63603), (('Mood Indigo', 'CHEEZE (치즈)'), 63467), (('별 보러 가자', '박보검'), 63324), (('장마 (Rainy Season)', '마마무 (Mamamoo)'), 62327), (('우리 왜 헤어져야 해', '신예영'), 61146), (('비와 당신', '럼블피쉬'), 59366), (('희재', '성시경'), 58816), (('보고 싶다', '김범수'), 58574), (('꽃피는 봄이오면', 'BMK'), 58049), (('당신만이', '곽진언'), 56126), (('Never Be the Same', 'Camila Cabello'), 56032), (('가끔 이러다', '펀치 (Punch)'), 55804), (('그런일은', '화요비'), 51185), (('Shape Of My Heart', 'Sting'), 49946), (('다시는 사랑하지 않고, 이별에 아파하기 싫어', '백지영'), 49675), (('In My Blood', 'Shawn Mendes'), 49197), (('To Die For', 'Sam Smith'), 49066), (('둘만의 세상으로 가', 'Crush'), 48896), (('우리 만남이', '폴킴'), 48474), (('또 운다 또', '다비치'), 48442), (('12:45 (Stripped)', 'Etham'), 47662), (('Lose You To Love Me', 'Selena Gomez'), 47449), (('Be Be Your Love', 'Rachael Yamagata'), 47166), (('반만', '진민호'), 47125), (('마치 우린 없었던 사이 (Prod. 정키)', '다비치'), 45674), (('Sign Of The Times (LG V30 광고 삽입곡)', 'Harry Styles'), 45350), (('날 그만 잊어요', '거미'), 44203), (('봄비', '장범준'), 43823), (('everything i wanted', 'Billie Eilish'), 43270), (('비가 오잖아', '소유 (SOYOU)'), 40400), (('화려하지 않은 고백', '규현 (KYUHYUN)'), 39560), (('Skinny Love', 'Birdy'), 38376), (('이럴거면', '아이비'), 38323), (('Flower', 'Johnny Stimson'), 38253), (('사랑의 인사', '씨야'), 37336), (('사랑 알 수 없나봐', '폴킴'), 37258), (('비오는 날 뭐해', '하은'), 37227), (('As I am', '백예린'), 36161), (('Someone You Loved', 'Lewis Capaldi'), 35752), (('If The World Was Ending (feat Julia Michaels)', 'JP Saxe'), 35236), (('Changes', 'Lauv'), 34644), (('미친 소리', '이예준'), 33441), (('이상한 사람', '존박'), 33309), (('위로', '권진아'), 33232), (('느낌', '폴킴'), 33149), (('홀로 (Feat. 김나영)', '정키'), 32029), (('Dancing With Your Ghost', 'Sasha Sloan'), 31942), (('하루 종일 비가 내렸어', '디아'), 31262), (('ME! (Feat. Brendon Urie)', 'Taylor Swift'), 31047), (('lovely', 'Billie Eilish'), 30916), (('Easily', 'Bruno Major'), 30850), (('Falling', 'Harry Styles'), 30686), (('사랑은 언제나 목마르다', '유미'), 30507), (('Lonely Night', '권진아'), 30089), (('BLUE', 'Troye Sivan'), 29947), (('Something About Us', 'Daft Punk'), 28897), (('그대 고운 내사랑', '어반자카파'), 28816), (('가리워진 길', '볼빨간사춘기'), 27848), (('길에서', '나비'), 27788), (('이 노랜 꽤 오래된 거야 (A song from the past)', '솔라 (마마무)'), 27477), (('시간이 흐른 뒤 (As Time Goes By)', '윤미래'), 27338), (('Stitches', 'Shawn Mendes'), 27138), (('인형의 꿈', '러브홀릭'), 26854), (('거짓말처럼', 'CHEEZE (치즈)'), 26755), (('Homesick', 'Dua Lipa'), 26367), (('K.', 'Cigarettes After Sex'), 26043), (('고백 (영화 `늑대의 유혹` 주제곡)', '육성재 (비투비)'), 25876), (('8 Letters', 'Why Don`t We'), 25717), (('사랑은 타이밍', '폴킴'), 25653), (('Quando, Quando, Quando', 'Michael Buble'), 25513), (('문득', '노을'), 24930), (('Cigarette (Feat. Tablo, MISO)', 'offonoff (오프온오프)'), 23981), (('통화연결음', '린'), 23852), (('Love Me Less', 'MAX'), 23845), (('끝이 아닌 것 같아서', '바닐라 어쿠스틱'), 23632), (('나 돌아가', '임정희'), 23631), (('Something In The Rain', 'Rachael Yamagata'), 23615), (('흩어진 나날들', '박효신'), 23416), (('그대의 밤, 나의 아침', '브라운 아이드 소울'), 23308), (('시계 바늘', '권진아'), 23144), (('I Will Always Love You', 'Whitney Houston'), 22976), (('Psycho, Pt. 2', 'Russ'), 22958), (('잘 지내고 있는지 궁금해', 'V.O.S'), 22584), (('소나기', '윤하 (YOUNHA)'), 22425), (('세월이 가면', '박보람'), 22387), (('농담처럼 (Prod. Zion.T)', '기리보이'), 22354), (('그리움만 쌓이네', '솔라 (마마무)'), 22349), (('C`mon Through', 'Lasse Lindh'), 21811), (('사랑하고 싶게 돼', '멜로망스'), 21685), (('어떨까 넌', 'CHEEZE (치즈)'), 21548), (('미워도 다시 한 번', '벤'), 21269), (('Lost Boy', 'Ruth B'), 21151), (('비오는 압구정', '브라운 아이즈'), 20887), (('Let Me', 'ZAYN'), 20860), (('People Help The People', 'Birdy'), 20661), (('Hey Jude (Remastered 2015)', 'The Beatles'), 19550), (('사랑에 아파본 적 있나요', '스탠딩 에그'), 19003), (('Rainbow', 'Kacey Musgraves'), 19000), (('늦은 후회', '보보'), 18708), (('SLOW DANCING IN THE DARK', 'Joji'), 18288), (('뭔가 잘못됐어', '권진아'), 18121), (('오래도록 고맙도록', '브라운 아이드 소울'), 17842), (('Reality', 'Richard Sanderson'), 17761), (('Over And Over Again', 'Nathan Sykes'), 17605), (('This Happy Madness', 'Stacey Kent'), 17481), (('Purpose (Stripped)', 'Etham'), 17276), (('No Time To Die', 'Billie Eilish'), 17142), (('오늘은 가지마 (Duet Ver.)', '임세준'), 17078), (('Nervous (Acoustic)', 'Gavin James'), 17040), (('Misty', 'Ella Fitzgerald'), 16941), (('돌아와 줘', '전상근'), 16931), (('축제', '멜로망스'), 16825), (('혼자하는 사랑', 'Ann One'), 16622), (('우리 (Feat. 임철 of 장덕철)', '반하나'), 16620), (('Piano Man', 'Billy Joel'), 16576), (('비 오는 거리 (Feat. 핫펠트)', '베이빌론'), 15834), (('Wake Me Up (Radio Edit)', 'Avicii'), 15805), (('아무런 말들도', '백지영'), 15581), (('Woman', 'HONNE'), 15567), (('Here We Go Again (Feat. Louisa)', 'Sigma'), 15322), (('You & Jennifer', 'Bulow'), 15241), (('내 입술... 따뜻한 커피처럼', '샵'), 15193), (('I Fall In Love Too Easily', 'Chet Baker'), 14898), (('이별하기 좋은 날씨 (Vocal by 정동원)', '더필름'), 14874), (('우린 어디에나', 'CHEEZE (치즈)'), 14672), (('가로수 그늘 아래 서면', '장재인'), 14562), (('그때의 우리', '펀치 (Punch)'), 14228), (('Ticket', 'CHEEZE (치즈)'), 14082), (('Geek In The Pink', 'Jason Mraz'), 13963), (('나비효과', '로시 (Rothy)'), 13886), (('비오는 압구정', '윤건'), 13603), (('알았더라면', '디에이드 (The Ade)'), 13348), (('어떤 말도', 'Crush'), 13323), (('I Wish You Love', 'Lisa Ono'), 13276), (('Moonlight', '하현상'), 13258), (('And we go', '성시경'), 13127), (('homeless door (Feat. Rad Museum)', 'offonoff (오프온오프)'), 13122), (('나쁜 놈', '벤'), 12906), (('Lucid Dreams', 'Juice WRLD'), 12833), (('그리움의 언덕', '에이프릴 세컨드'), 12737), (('Vincent', 'Don McLean'), 12713), (('1950', 'King Princess'), 12622), (('비오는 거리', '이승훈'), 12554), (('Bills (`스프라이트` 광고 삽입곡)', 'LunchMoney Lewis'), 12540), (('Yesterday (Remastered 2015)', 'The Beatles'), 12524), (('울컥해', '바닐라 어쿠스틱'), 12369), (('구두', '씨야'), 12175), (('Because I', 'Lasse Lindh'), 12079), (('넌 언제나', '제이레빗(J Rabbit)'), 11939), (('미소를 띄우며 나를 보낸 그 모습처럼 (Don`t Cry For Me)', '루나 (LUNA)'), 11903), (('I Still', 'CHEEZE (치즈)'), 11896), (('빗속에서', '존박'), 11746), (('그대 떠난 뒤', '장범준'), 11638), (('이별살이', '린'), 11565), (('SUBURBIA', 'Troye Sivan'), 11493), (('Overthinking', 'offonoff (오프온오프)'), 11379), (('Location Unknown ◐ (Brooklyn Session)', 'HONNE'), 11366), (('Dear', 'Mad Soul Child'), 11316), (('Those Sweet Words', 'Norah Jones'), 11232), (('늦은 후회', '켄(KEN)'), 10993), (('그런사람 또 없습니다', '승희 (오마이걸)'), 10931), (('Shinjuku Twilight', 'Eddie Higgins Trio'), 10866), (('슬픈 인연', '015B'), 10846), (('Now And Forever', 'Richard Marx'), 10838), (('HELLO', '로시 (Rothy)'), 10642), (('4pm Cafe', '170hz'), 10596), (('바람이 부네요', '이소라'), 10553), (('견뎌야 하는 우리에게', '먼데이 키즈 (Monday Kiz)'), 10547), (('계절 끝 (잠 못 드는 밤 2)', '로코베리'), 10515), (('iT`s YoU', 'ZAYN'), 10435), (('No New Friends', 'LSD (Sia, Diplo and Labrinth)'), 9815), (('Falling', 'Trevor Daniel'), 9774), (('어쩌면, 널 잊을 수 있을까', '길구봉구'), 9730), (('Comfortable', 'Lauv'), 9639), (('Virginia Moon (Feat. Norah Jones)', 'Foo Fighters'), 9579), (('빈 방', '벤'), 9553), (('우리 다시 연락해요 (Vocal by 안녕)', '더필름'), 9460), (('What Am I To You?', 'Norah Jones'), 9456), (('Alone Again (Naturally)', 'Gilbert O`Sullivan'), 9429), (('수채화', '이바다'), 9407), (('You Are The Reason', 'Calum Scott'), 9376), (('A Whiter Shade Of Pale', 'Halie Loren'), 9111), (('Demise', 'Wouter Hamel'), 9096), (('what are you so afraid of', 'XXXTENTACION'), 8982), (('Do It Yourself', 'ILIRA'), 8864), (('그래 아니까', '정준일'), 8847), (('취한김에', '어쿠루브'), 8834), (('listen before i go', 'Billie Eilish'), 8655), (('in the car', 'offonoff (오프온오프)'), 8608), (('또 사랑에 속다', '에이트'), 8541), (('행복하댔잖아', '가비엔제이'), 8390), (('Mermaid', 'Skott'), 8333), (('비가 내리는 날', '장혜진'), 8146), (('Baby Blue', 'King Krule'), 8130), (('처음부터 만나지 않았더라면', '반하나'), 8100), (('Consequence Of Love', 'Gregory Porter'), 7980), (('ill come back to you', 'Powfu'), 7790), (('Dancing On My Own', 'Calum Scott'), 7733), (('사랑..그놈', '임재범'), 7715), (('Alright', '스텔라장 (Stella Jang)'), 7679), (('너에게로 또다시', '서영은'), 7636), (('어때', '진민호'), 7605), (('카페인 (Under Caffeine)', '스텔라장 (Stella Jang)'), 7549), (('너는, 꽃', '노르웨이 숲'), 7529), (('Shoot The Moon', 'Norah Jones'), 7489), (('Life Is Worth Living', 'Justin Bieber'), 7461), (('Cold Hearted', 'Alex Holtti'), 7402), (('안부', '펀치 (Punch)'), 7199), (('Someone You Loved', 'Conor Maynard'), 7111), (('I Don`t Think About You', 'Kelly Clarkson'), 7109), (('10분이라도 더 보려고', '켄(KEN)'), 7104), (('작가미정', '신인류'), 7068), (('Phases', 'PRETTYMUCH (프리티머치)'), 7053), (('그대 떠나는 날 비가 오는가', '잔나비'), 6923), (('Heaven', 'Julia Michaels'), 6866), (('Mind Is A Prison', 'Alec Benjamin'), 6816), (('Jenny', 'Mae Muller'), 6730), (('비오는 날 수채화', '김현식'), 6678), (('Love Again', 'New Hope Club'), 6659), (('Rain', '죠지'), 6559), (('제발', '이승기'), 6457), (('Kissing A Fool', 'Michael Buble'), 6443), (('The Face I Love', 'Stacey Kent'), 6413), (('잘 지내는 너에게', '반광옥'), 6384), (('Cancer', 'twenty one pilots'), 6355), (('Paranoid', 'Lauv'), 6350), (('Vincent', 'Ellie Goulding'), 6336), (('Evergreen', 'Susan Jacks'), 6336), (('사랑한 만큼', '박재정'), 6334), (('안녕과 안녕으로', '이예준'), 6248), (('Old Friends', 'Jasmine Thompson'), 6218), (('Blue Sea', 'Bird'), 6154), (('3월 같은 너', '존박'), 6148), (('Me And My Broken Heart', 'Rixton'), 6147), (('언제나 돌아와 (Prod. 더필름)', '정동원'), 6121), (('Finally Getting Closer', 'Wouter Hamel'), 5981), (('Animal', 'Troye Sivan'), 5962), (('Consequences (orchestra)', 'Camila Cabello'), 5907), (('사랑이 다른 사랑으로 잊혀지네', '알리 (ALi)'), 5885), (('하루만 더 내게 시간을 줄 순 없겠니 (Feat. 12月)', '윤토벤'), 5882), (('Please', '박효신'), 5875), (('날 찾아', '이수영'), 5871), (('Find U Again (feat. Camila Cabello)', 'Mark Ronson'), 5688), (('The Good Side', 'Troye Sivan'), 5662), (('Be Still My Heart', 'Silje Nergaard'), 5574), (('다줄꺼야', '이승기'), 5461), (('New York City', 'Norah Jones & Peter Malick Group'), 5432), (('세월의 흔적 다 버리고 (1993)', '015B'), 5404), (('The Summer We Crossed Europe In The Rain', 'Stacey Kent'), 5362), (('날 위한 이별', '성시경'), 5354), (('Early In The Morning', 'Cliff Richard'), 5330), (('Colors (Stripped)', 'Halsey'), 5308), (('Sober', 'Demi Lovato'), 5256), (('ghostin', 'Ariana Grande'), 5252), (('끝사랑', '이선희'), 5209), (('Time After Time', 'Chet Baker'), 5198), (('HOLIDAY', '폴킴'), 5118), (('ROCKSTAR (Feat. Roddy Ricch)', 'DaBaby'), 5103), (('Sunrise', 'Norah Jones'), 5029), (('그댄 행복에 살텐데', '이기찬'), 4993), (('Sweet Little Lies', 'Bulow'), 4964), (('Little Lou, Ugly Jack, Prophet John', 'Belle & Sebastian'), 4900), (('Will You Still Love Me Tomorrow', 'Inger Marie'), 4867), (('Hang On Little Tomato', 'Pink Martini'), 4760), (('You Call It Love (Version Maxi)', 'Karoline Kruger'), 4717), (('Going Home', '정세운'), 4678), (('Mad Love', 'Mabel'), 4594), (('바람기억', '이선희'), 4541), (('가끔은 그래도 괜찮아 (Prod. 로코베리)', '오왠 (O.WHEN)'), 4530), (('Look Back At It', 'A Boogie Wit Da Hoodie'), 4463), (('Lips Don`t Lie (feat. A Boogie Wit da Hoodie)', 'Ally Brooke'), 4440), (('Fly Me To The Moon', 'Julie London'), 4418), (('Gentleman', 'Will Jay'), 4395), (('True Colours', 'Tom Odell'), 4374), (('Kokopelli', 'Mild High Club'), 4348), (('못하겠어', '박보람'), 4328), (('Sleep (3 A.M.)', 'Lossapardo'), 4267), (('No Maybes', 'Lisa Lovbrand'), 4241), (('너에게', '헨'), 4186), (('Anything Like Me', 'Melo'), 4167), (('Slide', 'James Bay'), 4162), (('그리워하는 나, 그리워지는 너', '어쿠스틱 콜라보'), 4083), (('사랑', '김민석'), 4045), (('For What It`s Worth', 'Liam Gallagher'), 4032), (('Slow Fade', 'Ruth B'), 3998), (('When October Goes', 'Barry Manilow'), 3967), (('The Way You Look Tonight', 'Maroon 5'), 3930), (('Alone', 'Miso'), 3885), (('Birds (Feat. Elisa)', 'Imagine Dragons'), 3870), (('Hang On Little Tomato (안녕 프란체스카 희진과 이켠 테마)', 'Pink Martini'), 3864), (('오늘도 혼잣말', 'MJ (써니사이드)'), 3855), (('Her', 'Anne-Marie'), 3841), (('Robbery', 'Juice WRLD'), 3837), (('팽팽한 줄이 끊어지듯', '재규어 중사 (SFC.JGR)'), 3831), (('Close Your Eyes', 'Rhodes'), 3798), (('흔한 여자', '반하나'), 3745), (('사랑과 우정사이', 'KCM'), 3729), (('A Lover`s Concerto', 'Sarah Vaughan'), 3721), (('Imagine', 'Avril Lavigne'), 3717), (('잡아', '존박'), 3686), (('Raining In Amsterdam', '이나래'), 3675), (('Leave It All Behind', 'John Splithoff'), 3631), (('Hey Jude', 'The Beatles'), 3615), (('잊었니', '김연지'), 3557), (('Beautiful', 'Virginia To Vegas'), 3550), (('Happy Day', 'Green Diary'), 3543), (('over u', 'keshi'), 3520), (('눈이 말하더라', '벤'), 3500), (('Dancer', 'Flo Rida'), 3498), (('왜 연락했는데 (Prod. 더필름)', '#안녕'), 3445), (('Graduation', 'benny blanco'), 3404), (('Love Someone (Piano Demo)', 'Lukas Graham'), 3302), (('산책', '소히'), 3293), (('기대', '유회승 (N.Flying)'), 3291), (('Gravity', 'John Mayer'), 3287), (('I Don`t Miss You Anymore', 'Lisa Ekdahl'), 3284), (('Righteous', 'Juice WRLD'), 3247), (('꽃이 피는 걸 막을 순 없어요', '선우정아'), 3240), (('너무 아픈 사랑은 사랑이 아니었음을', '박새별'), 3190), (('견애 차이', '이해리 (다비치)'), 3149), (('Trouble', 'Cage The Elephant'), 3147), (('Ŕ Bout De Souffle, 1960', 'lofi'), 3114), (('MEGATRON', 'Nicki Minaj'), 3076), (('Inn', '주영'), 3048), (('She', 'Elvis Costello'), 3024), (('I Love You For Sentimental Reasons', 'Laura Fygi'), 3007), ((\"i'm so sad\", 'gnash'), 2976), (('서면역에서', '순순희'), 2963), (('보고싶다', '거미'), 2956), (('Take Five', 'Dave Brubeck'), 2951), (('What If I Told You That I Love You', 'Ali Gatie'), 2925), (('One Fine Day', 'Natalie Merchant'), 2890), (('T-Shirts (Acoustic)', 'James Smith'), 2838), (('Kissing A Fool', 'George Michael'), 2830), (('Brave', 'Don Diablo'), 2746), (('Taking A Chance On Love', 'Jane Monheit'), 2739), (('Fly Me To The Moon', 'Lisa Ono'), 2732), (('Midnight Mood', 'Bill Evans'), 2717), (('dear. (Early ver.)', 'some:r (소머)'), 2676), (('버스정류장', '모던 쥬스'), 2643), (('Mean It (stripped)', 'Lauv'), 2637), (('Chamber Of Reflection', 'Mac Demarco'), 2608), (('Waltz for Debby (Take 2) (Album Version)', 'Bill Evans Trio'), 2598), (('가끔씩은 내 생각하니', '디에이드 (The Ade)'), 2585), (('If', 'Sissel'), 2535), (('Rock It', 'Ofenbach'), 2527), (('Broken', 'Anson Seabra'), 2518), (('Secrets', 'Maria Mena'), 2508), (('따뜻한 그날', '우리집'), 2496), (('My Foolish Heart (Album Version)', 'Bill Evans Trio'), 2492), (('All The Way', 'Michael Bolton'), 2490), (('Say', 'Ruel'), 2448), (('사랑, 그 쓸쓸함에 대하여', '김건모'), 2439), (('사랑은 봄비처럼...이별은 겨울비처럼', '임현정'), 2421), (('Darkroom', 'Ten Sleep'), 2418), (('두 사람', '옥상달빛'), 2411), (('Futures', 'PREP'), 2402), (('또 가면 되지', '행주'), 2388), (('Paris', 'Karen Souza'), 2381), (('Homage', 'Mild High Club'), 2346), (('아무일 없던 것처럼', 'Fil (필)'), 2332), (('10,000 Hours (Piano)', 'Dan & Shay'), 2322), (('Misty', 'Zebra'), 2314), (('My Way', 'Frank Sinatra'), 2302), (('I Don`t Want To See You Cry', 'Silje Nergaard'), 2282), (('부탁', '이시은'), 2279), (('Reason To Stay', 'Sody'), 2265), (('Ooh Child (P&G 평창 동계 올림픽 땡큐맘 캠페인 삽입곡)', 'MILCK'), 2256), (('Honesty', 'Billy Joel'), 2195), (('그대를 알기 전에 내 모습으로', '뮤지'), 2164), (('Hustle', 'Pink'), 2146), (('Midnight Snack', 'Homeshake'), 2137), (('Rainbow', '데이먼스 이어 (Damons Year)'), 2107), (('Suddenly', '제이 리'), 2091), (('I Found You / Nilda’s Story', 'benny blanco'), 2081), (('Seven', 'Men I Trust'), 2077), (('To Die For (Acoustic)', 'Sam Smith'), 2066), (('Waiter, Oh Waiter', 'Stacey Kent'), 2059), (('Make The Moment Last', 'Tom Odell'), 2034), (('Viajante', '푸디토리움'), 2026), (('R.I.P. (feat. Rita Ora & Anitta)', 'Sofia Reyes'), 2019), (('Roots', 'Imagine Dragons'), 1994), (('감기', '팔로알토 (Paloalto)'), 1981), (('Cookie Crumble.', 'Phony PPL'), 1968), (('Mood For Love', 'Metropolitan Jazz Quartet'), 1957), (('비가 올때마다 (Feat. Nason, 에이민)', 'Dept (뎁트)'), 1876), (('Fresh Morning', 'Healing'), 1867), (('아주 가끔은', '어쿠스틱 콜라보'), 1866), (('Relax (Acoustic)', 'Fyfe'), 1861), (('Crazy (Feat. Willie Nelson)', 'Carla Bruni'), 1859), (('WOW', 'Zara Larsson'), 1845), (('This Morning', '제이 리'), 1836), (('지금 시각, 그대 마음 4시 50분', '더필름'), 1815), (('Malibu 1992', 'Coin'), 1810), (('A Lovely Way to Spend an Evening', 'Eddie Higgins Trio'), 1807), (('Love Again (Acoustic)', 'New Hope Club'), 1803), (('비가 와', '정철'), 1795), (('The Way Things Were', 'edbl'), 1789), (('The Winner Takes It All', 'Carla Bruni'), 1779), (('Love Me Tender', 'Elvis Presley'), 1734), (('As Time Goes By', 'Nicki Parrott'), 1716), (('Let There Be Love', 'Laura Fygi'), 1712), (('Take Me To The Alley', 'Gregory Porter'), 1707), (('괜찮은 척', 'OYEON (오연)'), 1694), (('편지', '브라운아이드걸스'), 1692), (('Under The Moonlight', 'Mateo Stoneman'), 1686), (('누구도 일러주지 않았네 (소희 Theme)', '이아립'), 1646), (('Holding On', 'Phora'), 1617), (('모르는 게 많았어요', '015B'), 1615), (('Almost Love', 'Sabrina Carpenter'), 1614), (('Open My Mouth', 'Kiiara'), 1582), (('바람따라 가는 기차여행', '감성노트'), 1580), (('Soul Searching', 'Bazzi'), 1544), (('Happy And Sad', 'Just Piano'), 1523), (('123456', 'Fitz & The Tantrums'), 1514), (('정말 헤어지려 해', '12月'), 1510), (('어항', '스텔라장 (Stella Jang)'), 1500), (('Let Me Know', 'Kadeem Tyrell'), 1496), (('흔들흔들', '헨'), 1495), (('두 번 다시 우리', '박보람'), 1486), (('가끔씩 눈물이 나죠', '팀'), 1483), (('Home To You', 'Sigrid'), 1451), (('Too Late For Lullabies', 'James Morrison'), 1444), (('How Deep Is Your Love (From \"Saturday Night Fever\" Soundtrack)', 'Bee Gees'), 1444), (('Coffee And Cigarettes, 2003', 'lofi'), 1439), (('Boasty (feat. Idris Elba)', 'Wiley'), 1435), (('차라리 널 몰랐었다면', '현수'), 1407), (('Dreaming', 'Chymes'), 1376), (('Always be here', '하진'), 1360), (('Ellie, My Love (Bonus Track)', 'Halie Loren'), 1357), (('Cologne', 'Ben Folds'), 1341), (('Opposite Of Loving Me (Stripped)', 'Etham'), 1339), (('Wicked Game', 'Grace Carter'), 1330), (('Common', 'ZAYN'), 1320), (('The Way You Look Tonight', 'Tony Bennett'), 1314), (('Slow It Down', 'Mike Posner'), 1302), (('Daily Life', 'Green Tea'), 1302), (('Spicy', 'Herve Pagez'), 1280), (('emotions', 'iann dior'), 1278), (('One Love', '러브홀릭'), 1272), (('Do It', 'Dabeull'), 1267), (('찬바람이 스쳐가며', 'OLIVER (올리버)'), 1259), (('Knees', 'Bebe Rexha'), 1243), (('이 세계', '백아'), 1242), (('Rain', 'The Script'), 1239), (('오늘 하루는 어땠나요', '러브 페이지'), 1226), (('화요일에 비가 내리면', '박미경'), 1220), (('Before You Go (Piano Version)', 'Lewis Capaldi'), 1209), (('You`ve Got A Friend', 'Stacey Kent'), 1192), (('오늘은 왠지...', 'My Tree'), 1174), (('너의 뒤에서 (리메이크)', '팀'), 1158), (('그대와 영원히', '이소라'), 1135), (('지난 날 꿈처럼', 'Just Piano'), 1113), (('기억의 빈자리 (Prod. by 나얼)', '아롬'), 1111), (('달에서의 하루', '장세용'), 1104), (('When We Were Young', 'J.Fla'), 1103), (('Baby I`m A Fool', 'Melody Gardot'), 1098), (('다시 만날 날이 있겠죠', '클랑 (KLANG)'), 1097), (('늦은 오후', 'Reason'), 1093), (('I`Ve Got A Crush On You', 'Stacey Kent'), 1075), (('좋겠어', '조연호'), 1071), (('5년 전 그날의 나에게 보내는 편지', '네이브로'), 1069), (('RAINBOW', '박혜경'), 1069), (('April In Paris', 'Eddie Higgins Trio'), 1063), (('Autumn In New York', 'Billie Holiday'), 1048), (('나만 몰랐던 이야기 (with 김광민)', '정동하'), 1042), (('기다린 날도 지워질 날도', '조성모'), 1040), (('말 없는 슬픔', '사람또사람'), 1035), (('I Wish You Love (Que Reste-T-Il De Nos Amours)', 'Halie Loren'), 1014), (('I Love You For Sentimental Reasons', 'John Pizzarelli'), 1002), (('이제는 안녕', 'Mono Tape'), 989), (('행운을 빌어요', '옥상달빛'), 986), (('Up and Away', 'Jakob Ogawa'), 973), (('Manesjuk', 'Hilde Louise Asbjornsen'), 972), (('Soulmate', '에보니힐'), 969), (('집에 가는 길', '연필 (The Pencil)'), 944), (('집을 나섰어', '임헌일'), 937), (('Who Did You Love', 'Arianna'), 931), (('감기 조심하고', 'NIA (니아)'), 925), (('Would you', '일레인'), 924), (('My Single Bed', 'Land of Peace'), 921), (('Don`t Ever Let Em', 'Fitz & The Tantrums'), 916), (('You Are So Beautiful (소니 카메라 - 송혜교편 광고 삽입곡)', 'Michael Bolton'), 912), (('Morning Calm', 'El'), 910), (('Orange Trees', 'MARINA'), 897), (('By Now', 'Will Jay'), 893), (('Hand It Over', 'MGMT'), 893), (('반갑다 봄아', '러브 페이지'), 891), (('Turn Me On', 'Norah Jones'), 889), (('All Of Me', 'Oscar Peterson'), 870), (('Hometown', 'Land of Peace'), 864), (('Slide (feat. Blueface & Lil Tjay)', 'French Montana'), 856), (('So Nice', 'Stacey Kent'), 840), (('소풍가는 길', '연필 (The Pencil)'), 834), (('상처 (Feat. 리쥐)', '권애진'), 830), (('온도차', '김보경 (NEON)'), 827), (('頓着 (돈착)', 'iwamizu'), 806), (('Seven Years', 'Norah Jones'), 796), (('없었어 (Feat. 장한)', '캣비'), 794), (('I`m Confessing', 'Peggy Lee'), 788), (('아무 일 없던 것처럼', 'by me'), 775), (('NO HALO', 'Brockhampton'), 774), (('I Need To Be In Love', '윈터플레이'), 766), (('If You Want Love', 'NF'), 764), (('What A Wonderful World', 'Stacey Kent'), 764), (('Just Like You', 'Jessica Mauboy'), 755), (('Body Back (Acoustic) (Feat. Maia Wright)', 'Gryffin'), 745), (('Unforgettable', 'Nat King Cole'), 741), (('새벽', '남재'), 735), (('Carry On', 'Norah Jones'), 729), (('Hailey (Acoustic)', 'James Smith'), 729), (('Call Your Girlfriend', 'Clara Mae'), 724), (('There Will Never Be Another You', 'Stacey Kent'), 710), (('Only Love', 'Nana Mouskouri'), 704), (('I Wish You Love', '주윤하'), 699), (('If I Had You', 'Stacey Kent'), 691), (('Hello, Dolly!', 'Louis Armstrong'), 664), (('Only', 'NF'), 660), (('80 Degrees', 'Isaac Lewis'), 656), (('O Barquinho', 'Stacey Kent'), 655), (('Try To Remember (Album Version)', '여명'), 639), (('나인 너에게', '김윤아'), 634), (('하루를 마치며', '여행이야기'), 632), (('La Javanaise', 'Madeleine Peyroux'), 622), (('잠에서 깨어나', 'My Tree'), 616), (('you were good to me', 'Jeremy Zucker'), 614), (('Forest Bird', 'Bird'), 605), (('Error', '이시은'), 604), (('As Time Goes By', 'Laura Fygi'), 603), (('Keep You Mine (Acoustic)', 'Notd'), 602), (('R.I.P (Feat. Suhn)', 'Kero One'), 599), (('Swallow Your Pride', 'Rhys'), 599), (('Refreshing', 'Healing'), 597), (('내 사랑 내 곁에', '신지훈'), 596), (('생각이 깊어지는 밤', '피아노 모먼트'), 591), (('알아 (Feat. 김재원)', '지우 (ZIU)'), 573), (('Body And Soul', 'Tony Bennett'), 573), (('Exhale', 'Sabrina Carpenter'), 572), (('And I Love You So', 'Don McLean'), 572), (('좋은사람이었어 (With MONK)', '지음'), 570), (('The Look Of Love', 'Diana Krall'), 563), (('전해지지 않는 마음', '네이브로'), 560), (('One Day', 'El'), 559), (('Outro', 'Tom Misch'), 554), (('그대여 안녕', '조원선'), 551), (('alone in the attic', 'guardin'), 542), (('Psycho!', 'Masn'), 537), (('Because You Loved Me (Theme From `Up Close & Personal`)', 'Celine Dion'), 537), (('Sabor A Mi', 'Mateo Stoneman'), 535), (('Queen of Diamonds', 'Tom Odell'), 535), (('Immature', 'Ashe'), 528), (('Open Door', 'Lisa Ekdahl'), 527), (('동네', 'The One (더원)'), 526), (('Dunk Shot', 'Land of Peace'), 512), (('봄소리', '모아캣 (MOACAT)'), 507), (('know (Early ver.)', 'some:r (소머)'), 500), (('Smile', 'Madeleine Peyroux'), 497), (('Macrowave', 'Suff Daddy'), 484), (('Easy Living', 'Billie Holiday'), 474), (('Candy', 'Ella Fitzgerald'), 473), (('Is It Just Me?', 'Emily Burns'), 470), (('Parkstone Drive', 'Russ'), 468), (('What A Diff`rence A Day Made', 'Tony Bennett'), 463), (('Ellie My Love', 'Halie Loren'), 458), (('Bad To Worse', 'Ra Ra Riot'), 452), (('I Won`t Dance', 'Jane Monheit'), 448), (('설화 (雪花)', '인아'), 446), (('You Give Me That', 'Raveena'), 444), (('Be Myself', '강혜인'), 443), (('Spring Time', 'Green Tea'), 443), (('Leave Me (feat. Marc E. Bassy)', 'Skizzy Mars'), 442), (('Toxins', 'Carlie Hanson'), 440), (('SLIDING DOORS', '테림 (TE RIM)'), 436), (('You Just Don`t Know People', 'Rumer'), 433), (('Love is strong', '웅산'), 432), (('Rainy Day (비오는 날)', '김광민'), 421), (('Forget', 'Karnaval Blues'), 419), (('Table for Two', 'edbl'), 418), (('오늘 같은 날', 'Reason'), 412), (('Slow N Slow', 'Healing'), 410), (('아침이 밝아올 때', 'Morning Dream'), 408), (('I Wish I Could Go Travelling Again', 'Stacey Kent'), 402), (('하루가 지나면', '새벽시간'), 398), (('Can`t Help Falling In Love', 'Elvis Presley'), 397), (('Paris', 'murmur'), 396), (('Slow', 'Rumer'), 390), (('Wild Fire', 'Laura Marling'), 387), (('Lovin` You', 'Shanice'), 386), (('Famous (Feat. Reginae Carter)', 'Lil Wayne'), 382), (('Cheek To Cheek', 'Ella Fitzgerald & Louis Armstrong'), 382), (('Velvet', 'Isaac Lewis'), 381), (('긴 밤이 지나도 꽃은 필 거야', '강혜인'), 380), (('Hold My Hand', 'Isak Danielson'), 379), (('Feel Again', 'Kina'), 373), (('눈을 잠시 감아요', '자장가 소리'), 369), (('나는 싫어', '주윤하'), 368), (('우리 같이 걸어요', '멜로우 데이즈'), 365), (('In A Sentimental Mood', 'John Coltrane'), 362), (('Moonglow', 'Noon'), 349), (('Sympatique (Original Mix)', 'Josephine Baker'), 349), (('Cold Summer', 'Fabolous'), 338), (('Plastic Heart', 'Land of Peace'), 337), (('The Girl From Ipanema (Feat. Astrud Gilberto)', 'Stan Getz'), 334), (('Cavatina (From `The Deer Hunter`)', 'John Williams'), 331), (('Heart & Soul', 'Slackwax'), 328), (('Can`t Lie', 'Ali Gatie'), 325), (('My Angel', 'Prince Royce'), 323), (('NY in night (Reply From Space)', 'The Cancel'), 321), (('Why We Can`t', 'Quando Rondo'), 320), (('무지개', '민채'), 319), (('The Very Thought Of You', 'Stacey Kent'), 316), (('You Always Hurt The One You Love (Single Version)', 'Mills Brothers'), 311), (('Midnight in Paris', 'DUSKY80'), 306), (('비가 오는 날엔', '이기찬'), 303), (('magpies', 'edbl'), 298), (('902동 302호', '곽푸른하늘'), 294), (('애쓰지 않아도', '신유나'), 284), (('Sweet Jazz O`mine', 'Duke Ellington'), 277), (('April In Paris', 'Charlie Parker'), 276), (('tiny victories', 'Christina Perri'), 276), (('이별후애 (Vocal By 국윤일)', '미스터 프랜들리'), 271), (('Only You', 'The Platters'), 270), (('Glass House (Feat. Naomi Wild)', 'Machine Gun Kelly'), 269), ((\"Can't We Be Friends?\", 'Ella Fitzgerald & Louis Armstrong'), 269), (('She', 'Flavio Mendes'), 269), (('Be Your Moon', 'Lasse Lindh'), 266), (('Somebody', 'Internet Money'), 266), (('classic waltz', '제이 리'), 264), (('울어도 괜찮아', '인아'), 263), (('작은나라', '감성노트'), 260), (('Let Me Stay', '존박'), 258), (('Party Girl', 'StaySolidRocky'), 256), ((\"I Can't Tell You Why\", 'Diana Krall'), 255), (('Surely It Was', 'iwamizu'), 254), (('i wish i could sleep', 'Nymano'), 253), (('Lost Without You', 'Freya Ridings'), 252), (('바람이 솔솔 부는 날', '아이윌'), 249), (('Late October', 'Carrie K'), 248), (('I`ll Remember April', 'Luiz Bonfa'), 247), (('Desafinado (Feat. Antonio Carlos Jobim)', 'Stan Getz'), 244), (('Cheek To Cheek', 'Ella Fitzgerald'), 244), (('I Get a Kick Out of You', 'Michael Buble'), 242), (('Feeling Good', 'Nina Simone'), 241), ((\"Berliner Luft / Unter'n Linden / Das ist der Frühling von Berlin\", 'Paul Kuhn'), 236), (('Every Season', 'Roddy Ricch'), 232), (('Billie`s Bounce', 'New York Jazz Lounge'), 230), (('아침이 밝아오면', '하비누아주'), 228), (('Ruthless (feat. Jay Critch)', 'Lil Tjay'), 224), (('Through Da Storm', 'Polo G'), 223), (('Che Caldo Che Fa', 'Mocambo Swing'), 221), (('13:6:35', 'Belleruche'), 211), (('Stay Here (Feat. JA)', '제다이 (JEDIII)'), 209), (('Go Around (Full Ver.)', 'K.AFKA'), 207), ((\"When You're Smiling\", 'Michael Buble'), 204), (('Call Me', 'ROZES'), 200), (('What A Wonderful World', 'Louis Armstrong'), 198), (('Menilmontant', 'Avalon Jazz Band'), 197), (('Broken', 'Lund'), 196), (('Bulletproof', 'Griffin Oskar'), 194), (('The Spot', 'Your Smith'), 193), (('5:3666 (Feat. phem)', 'Machine Gun Kelly'), 189), (('Give Me The Simple Life', 'Wayne Haun'), 185), (('Walkin` In New York', 'Brenda Russell'), 184), (('Never Gonna Make It (Feat. Steve Houben)', 'Melanie De Biasio'), 183), (('One Night', 'Dusky Grey'), 182), (('Hard to Love (Acoustic)', 'Sam DeRosa'), 179), (('스쳐 지나가다', 'Morning Dream'), 179), (('Julia', 'Ramsey Lewis'), 175), (('Slowly Fall', '하현상'), 174), (('No One Knows', 'SE O (세오)'), 171), (('Another Place', 'Bastille'), 170), (('Drifting', '루시드폴'), 169), ((\"God's Lottery (Feat. Elohim)\", 'Mike Posner'), 169), (('Remedy', 'Ali Gatie'), 169), (('너와 손잡고', 'LAMP'), 168), (('One More Love Song (Instrumental)', 'Mac Demarco'), 166), (('그때의 우리 (Feat. 이하늘)', '하우어바웃유'), 163), (('기분 좋은 느낌', '피아노 모먼트'), 163), (('Stars Fell On Alabama', 'Ella Fitzgerald & Louis Armstrong'), 162), (('Somewhere, My Love (Re-Mastered) (영화 `닥터 지바고`)', 'Andy Williams'), 160), (('Sun Up', 'Nebu Kiniza'), 158), (('I`m Confessin` (That I Love You)', 'Diana Krall'), 156), (('Cleopatra`s Dream', 'Eric Reed Trio'), 153), (('Some Day My Prince Will Come', 'Imany'), 152), (('돌아서 보면', '피아노 모먼트'), 152), (('Silhouette', 'Grace Carter'), 150), (('Killuminati (feat. Foreign Teck)', 'YNW Melly'), 144), (('ohfm', 'Zuli'), 139), (('The Shadow Of Your Smile', '골든 스윙 밴드 (Golden Swing Band)'), 138), (('Red Eye', 'YoungBoy Never Broke Again'), 134), (('잊어본다', '정준희'), 129), (('아름다운 바다', '자장가 소리'), 127), (('숨만 쉬어요', '김은비 (EB)'), 126), (('Double Rainbow', 'Stacey Kent'), 126), (('Okay', 'Dj santan'), 125), (('Playing Love', 'Isak Danielson'), 123), (('In The Still Of The Night', 'Jane Monheit'), 123), (('Feel It Coming', 'iann dior'), 122), (('Blue Moon', 'Billie Holiday'), 119), (('Galaxy', 'Jayden Bartels'), 119), (('너와 나의 이야기', 'Green Tea'), 116), (('꿈속에서 본 너 (패드소리)', '마음치유'), 116), ((\"In Betweenin'\", 'Austn'), 108), (('The Glow Worm (Single Version)', 'Mills Brothers'), 108), (('LIFE', 'Conrad Sewell'), 107), (('Sunday In New York', 'Bobby Darin'), 104), (('한걸음', 'My Tree'), 99), (('Rain or Shine', '일레인'), 95), (('오늘은 즐거운 날', 'ALL NOTE'), 95), (('You Come With The Rain', 'Karnaval Blues'), 92), (('Death Note (Feat. Lil Skies & Craig Xen)', 'GNAR'), 91), (('바다여행', '달빛여행'), 91), (('Big Ole (feat. YFN Fat)', 'YFN Lucci'), 90), (('Monsters (Acoustic)', 'Youngr'), 90), (('Afternoon (Feat. Loook)', '뮤진 (MUZIN)'), 89), (('Groupie Bitches', 'Quando Rondo'), 87), (('양말 한 짝', 'BenAddict (벤에딕트)'), 86), (('Jugando Jugando', 'Sexteto Mayor'), 82), (('함께 발을 맞춰 거닐던', '시적화자'), 81), (('PICO', 'Brandon Banks'), 79), (('Change Partners', 'Frank Sinatra'), 78), (('Gang', 'YNW Melly'), 77), (('The Right To Love', 'Caecilie Norby'), 76), (('BALANCE', 'Brandon Banks'), 75), (('눈을 뜨면', '여행이야기'), 70), ((\"When You're Smiling (The Whole World Smiles With You) (With Intro)\", 'Louis Armstrong'), 70), (('Learnin` The Blues', 'Frank Sinatra'), 65), (('In the Moon', 'Jean Harlow'), 62), (('내일', '최고은'), 60), (('Stay', '뮤진 (MUZIN)'), 60), (('마음이 가는대로', 'ALL NOTE'), 59), (('너는', '러브홀릭'), 58), (('My City', 'Lil Tjay'), 58), (('im used to it', 'Powfu'), 58), (('Greensleeves', 'Coleman Hawkins'), 58), (('Priceless', 'Jasmïn'), 54), (('Little White Lies', 'Ella Fitzgerald'), 53), (('Solar Powered', 'Bryony Dunn'), 53), (('Rain', 'OFJW'), 52), (('Quejas De Bandoneon', 'Sexteto Mayor'), 50), (('So Sick', 'ØZMA'), 49), (('Us', 'Miller Blue'), 48), (('Long Ago And Far Away', 'Oscar Peterson'), 48), (('Lullaby Of Birdland (Feat. Clifford Brown)', 'Sarah Vaughan'), 47), (('지난 날...', '아이윌'), 47), (('P.47 독백', '이진호'), 46), (('Running Away', 'Jasmïn'), 46), (('너', '소규모 아카시아 밴드'), 45), (('지금 이대로라면 (패드소리)', '마음치유'), 42), (('Wreck', 'Samica'), 40), (('La Foule (feat. Erich Nussbaum)', 'Erich Nussbaum'), 39), (('City', 'Loook (룩)'), 36), (('Doom Days', 'Bastille'), 35), (('Slam Slam Blues', 'Charlie Parker'), 35), (('April In Paris (Remastered 2013)', 'Thelonious Monk'), 34), (('Another Grey Morning', 'Bobo Moreno'), 31), (('그렇게 우린', '김현민'), 30), (('Lean On Me', 'SE O (세오)'), 29), (('Fete De La Musique', 'Dorado Schmitt'), 28), (('Watching You (Stripped Back Version)', 'Robinson'), 28), (('Not With You', 'Mike Brown'), 27), ((\"I'm Okay\", 'nak'), 25), (('L. I. T. W.', 'Shireen Valentina'), 19), (('somehow', 'James Essex'), 19), (('Boba Tea', 'Duan'), 18), (('His Name (Feat. Monica Hill Trejo)', 'Bryann T.'), 16), (('Mack the Knife', 'Louis Armstrong'), 16), (('Look so Good', 'Damien'), 16), (('Don`t Wanna Dance (feat. Stefanie)', 'Max Beatstone'), 15), (('Understand', 'Indii G.'), 14), (('Drowning', 'Tallia Storm'), 14), (('Stompin` At The Savoy', 'Benny Goodman'), 13), (('Gipsy Swing', 'Amati Schmitt'), 12), ((\"I Don't Wanna Live Forever\", 'Past Midnight'), 11), (('잊지 못할 테니', '민경나'), 9), (('Cola', 'Jacob Wellfair'), 8), (('Autumn in New York (Los Angeles, April 1952)', 'Oscar Peterson'), 7), (('Scarlet Skies', 'Chevalier'), 7)]\n"
     ]
    }
   ],
   "source": [
    "# 좋아요 수 기준으로 내림차순 만들기\n",
    "song_info = sorted(song_info.items(), key=lambda x: x[1], reverse=True)\n",
    "#print(song_info)"
   ]
  },
  {
   "cell_type": "code",
   "execution_count": 10,
   "metadata": {},
   "outputs": [
    {
     "data": {
      "text/plain": [
       "[[1, '모든 날, 모든 순간 (Every day, Every Moment)', '폴킴', 332083],\n",
       " [2, '너를 만나', '폴킴', 260448],\n",
       " [3, '비', '폴킴', 251429],\n",
       " [4, '비도 오고 그래서 (Feat. 신용재)', '헤이즈 (Heize)', 248213],\n",
       " [5, '흔들리는 꽃들 속에서 네 샴푸향이 느껴진거야', '장범준', 243448]]"
      ]
     },
     "execution_count": 10,
     "metadata": {},
     "output_type": "execute_result"
    }
   ],
   "source": [
    "#결과 출력\n",
    "result = []\n",
    "for i in range(5):\n",
    "    rank = i+1\n",
    "    title_result = song_info[i][0][0]\n",
    "    singer_result = song_info[i][0][1]\n",
    "    likes_result = song_info[i][1]\n",
    "    #print(str(rank)+'위.',title_result,singer_result,likes_result)\n",
    "    \n",
    "    result.append([rank,title_result,singer_result,likes_result])\n",
    "result"
   ]
  },
  {
   "cell_type": "code",
   "execution_count": null,
   "metadata": {},
   "outputs": [],
   "source": []
  },
  {
   "cell_type": "code",
   "execution_count": null,
   "metadata": {},
   "outputs": [],
   "source": []
  }
 ],
 "metadata": {
  "kernelspec": {
   "display_name": "Python 3",
   "language": "python",
   "name": "python3"
  },
  "language_info": {
   "codemirror_mode": {
    "name": "ipython",
    "version": 3
   },
   "file_extension": ".py",
   "mimetype": "text/x-python",
   "name": "python",
   "nbconvert_exporter": "python",
   "pygments_lexer": "ipython3",
   "version": "3.7.7"
  }
 },
 "nbformat": 4,
 "nbformat_minor": 4
}
